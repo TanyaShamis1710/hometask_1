{
  "nbformat": 4,
  "nbformat_minor": 0,
  "metadata": {
    "colab": {
      "name": "Untitled2.ipynb",
      "provenance": [],
      "collapsed_sections": [],
      "include_colab_link": true
    },
    "kernelspec": {
      "name": "python3",
      "display_name": "Python 3"
    }
  },
  "cells": [
    {
      "cell_type": "markdown",
      "metadata": {
        "id": "view-in-github",
        "colab_type": "text"
      },
      "source": [
        "<a href=\"https://colab.research.google.com/github/TanyaShamis1710/my_repo1/blob/hometask_2/Untitled2.ipynb\" target=\"_parent\"><img src=\"https://colab.research.google.com/assets/colab-badge.svg\" alt=\"Open In Colab\"/></a>"
      ]
    },
    {
      "cell_type": "code",
      "metadata": {
        "id": "8cWeLL1-T5Sk",
        "colab_type": "code",
        "outputId": "0a8167a5-339a-41db-d4ea-e12875f0c3d2",
        "colab": {
          "base_uri": "https://localhost:8080/",
          "height": 386
        }
      },
      "source": [
        "import numpy as np\n",
        "\n",
        "x= np.random.random((10,3))\n",
        "print(x)\n",
        "for i in range(0,10):\n",
        "  print(x[i,(abs(x-0.5)).argmin(axis=1)[i]])\n",
        "print(x[:,np.argmin((abs(x-0.5)),axis=1)]);\n",
        "  \n",
        "  \n",
        "  \n",
        "  \n",
        "\n",
        "\n"
      ],
      "execution_count": 0,
      "outputs": [
        {
          "output_type": "stream",
          "text": [
            "[[0.01446976 0.1880847  0.56817342]\n",
            " [0.63605169 0.49248442 0.11759535]\n",
            " [0.90920208 0.2112928  0.02639563]\n",
            " [0.31703007 0.69626108 0.58667409]\n",
            " [0.77705208 0.00496958 0.94642037]\n",
            " [0.30296012 0.12603838 0.42600247]\n",
            " [0.11208884 0.94623171 0.63467926]\n",
            " [0.00482406 0.57068317 0.73957228]\n",
            " [0.42406027 0.08613073 0.36251577]\n",
            " [0.16511502 0.69009141 0.57844416]]\n",
            "0.5681734199591998\n",
            "0.4924844231351536\n",
            "0.21129279639256082\n",
            "0.5866740877218309\n",
            "0.7770520798909262\n",
            "0.42600247384899315\n",
            "0.6346792608316688\n",
            "0.5706831669441927\n",
            "0.4240602677438646\n",
            "0.5784441621344864\n",
            "[0.1880847  0.49248442 0.2112928  0.69626108 0.00496958 0.12603838\n",
            " 0.94623171 0.57068317 0.08613073 0.69009141]\n"
          ],
          "name": "stdout"
        }
      ]
    },
    {
      "cell_type": "code",
      "metadata": {
        "id": "SphCb8gZ_Syi",
        "colab_type": "code",
        "outputId": "f1d63720-a180-42c7-931f-9d230707bb07",
        "colab": {
          "base_uri": "https://localhost:8080/",
          "height": 151
        }
      },
      "source": [
        "import numpy as np\n",
        "\n",
        "x= np.random.random((6,6))\n",
        "print(x)\n",
        "\n",
        "x.sum(axis=1)/x.min(axis=0)"
      ],
      "execution_count": 0,
      "outputs": [
        {
          "output_type": "stream",
          "text": [
            "[[0.91963008 0.4118728  0.41329451 0.95218868 0.85436651 0.26455887]\n",
            " [0.61382805 0.10568723 0.37273609 0.17431729 0.05924267 0.50624672]\n",
            " [0.89258494 0.66129335 0.6732065  0.02014317 0.53241089 0.60394906]\n",
            " [0.28068119 0.16397442 0.93092505 0.13618529 0.07758769 0.93908157]\n",
            " [0.37251672 0.09563891 0.5757941  0.10384144 0.28192343 0.28270965]\n",
            " [0.02722969 0.460993   0.61980222 0.21865338 0.4657909  0.48813442]]\n"
          ],
          "name": "stdout"
        },
        {
          "output_type": "execute_result",
          "data": {
            "text/plain": [
              "array([140.13791146,  19.15598993,   9.07770391, 125.52319673,\n",
              "        28.90524873,   8.62040134])"
            ]
          },
          "metadata": {
            "tags": []
          },
          "execution_count": 45
        }
      ]
    },
    {
      "cell_type": "code",
      "metadata": {
        "id": "ylbVYjCuC5t7",
        "colab_type": "code",
        "outputId": "7435cef1-8835-4a23-f356-9510920c6ea3",
        "colab": {
          "base_uri": "https://localhost:8080/",
          "height": 34
        }
      },
      "source": [
        "import numpy as np\n",
        "\n",
        "x = np.array([6, 2, 0, 3, 0, 0, 5, 7, 0])\n",
        "zero= x==0;\n",
        "print(x[1:][zero[:-1]].max())\n"
      ],
      "execution_count": 2,
      "outputs": [
        {
          "output_type": "stream",
          "text": [
            "5\n"
          ],
          "name": "stdout"
        }
      ]
    },
    {
      "cell_type": "code",
      "metadata": {
        "id": "3TU-cr8xik_0",
        "colab_type": "code",
        "outputId": "d139b77a-5001-423f-8a5c-83f7e54c0a5d",
        "colab": {
          "base_uri": "https://localhost:8080/",
          "height": 229
        }
      },
      "source": [
        "x = np.ones(10) \n",
        "i = np.array([0, 1, 2, 3, 5, 5, 5, 8])\n",
        "print(*(x[a]+np.count_nonzero(i==a) for a in range(len(x)) ))\n"
      ],
      "execution_count": 0,
      "outputs": [
        {
          "output_type": "stream",
          "text": [
            "2.0 2.0 2.0 2.0 1.0 4.0 1.0 1.0 2.0 1.0\n"
          ],
          "name": "stdout"
        },
        {
          "output_type": "error",
          "ename": "NameError",
          "evalue": "ignored",
          "traceback": [
            "\u001b[0;31m---------------------------------------------------------------------------\u001b[0m",
            "\u001b[0;31mNameError\u001b[0m                                 Traceback (most recent call last)",
            "\u001b[0;32m<ipython-input-18-fb54c97ca3c0>\u001b[0m in \u001b[0;36m<module>\u001b[0;34m()\u001b[0m\n\u001b[1;32m      2\u001b[0m \u001b[0mi\u001b[0m \u001b[0;34m=\u001b[0m \u001b[0mnp\u001b[0m\u001b[0;34m.\u001b[0m\u001b[0marray\u001b[0m\u001b[0;34m(\u001b[0m\u001b[0;34m[\u001b[0m\u001b[0;36m0\u001b[0m\u001b[0;34m,\u001b[0m \u001b[0;36m1\u001b[0m\u001b[0;34m,\u001b[0m \u001b[0;36m2\u001b[0m\u001b[0;34m,\u001b[0m \u001b[0;36m3\u001b[0m\u001b[0;34m,\u001b[0m \u001b[0;36m5\u001b[0m\u001b[0;34m,\u001b[0m \u001b[0;36m5\u001b[0m\u001b[0;34m,\u001b[0m \u001b[0;36m5\u001b[0m\u001b[0;34m,\u001b[0m \u001b[0;36m8\u001b[0m\u001b[0;34m]\u001b[0m\u001b[0;34m)\u001b[0m\u001b[0;34m\u001b[0m\u001b[0;34m\u001b[0m\u001b[0m\n\u001b[1;32m      3\u001b[0m \u001b[0mprint\u001b[0m\u001b[0;34m(\u001b[0m\u001b[0;34m*\u001b[0m\u001b[0;34m(\u001b[0m\u001b[0mx\u001b[0m\u001b[0;34m[\u001b[0m\u001b[0ma\u001b[0m\u001b[0;34m]\u001b[0m\u001b[0;34m+\u001b[0m\u001b[0mnp\u001b[0m\u001b[0;34m.\u001b[0m\u001b[0mcount_nonzero\u001b[0m\u001b[0;34m(\u001b[0m\u001b[0mi\u001b[0m\u001b[0;34m==\u001b[0m\u001b[0ma\u001b[0m\u001b[0;34m)\u001b[0m \u001b[0;32mfor\u001b[0m \u001b[0ma\u001b[0m \u001b[0;32min\u001b[0m \u001b[0mrange\u001b[0m\u001b[0;34m(\u001b[0m\u001b[0mlen\u001b[0m\u001b[0;34m(\u001b[0m\u001b[0mx\u001b[0m\u001b[0;34m)\u001b[0m\u001b[0;34m)\u001b[0m \u001b[0;34m)\u001b[0m\u001b[0;34m)\u001b[0m\u001b[0;34m\u001b[0m\u001b[0;34m\u001b[0m\u001b[0m\n\u001b[0;32m----> 4\u001b[0;31m \u001b[0ma\u001b[0m\u001b[0;34m=\u001b[0m \u001b[0mj\u001b[0m \u001b[0;32min\u001b[0m \u001b[0mi\u001b[0m\u001b[0;34m\u001b[0m\u001b[0;34m\u001b[0m\u001b[0m\n\u001b[0m\u001b[1;32m      5\u001b[0m \u001b[0mprint\u001b[0m\u001b[0;34m(\u001b[0m\u001b[0mx\u001b[0m\u001b[0;34m[\u001b[0m\u001b[0mj\u001b[0m\u001b[0;34m]\u001b[0m\u001b[0;34m)\u001b[0m\u001b[0;34m\u001b[0m\u001b[0;34m\u001b[0m\u001b[0m\n",
            "\u001b[0;31mNameError\u001b[0m: name 'j' is not defined"
          ]
        }
      ]
    },
    {
      "cell_type": "code",
      "metadata": {
        "id": "JDrRMTKlr3RU",
        "colab_type": "code",
        "outputId": "e5c1d162-daf9-4c12-a74f-c03f675dfda4",
        "colab": {
          "base_uri": "https://localhost:8080/",
          "height": 134
        }
      },
      "source": [
        "import numpy as np\n",
        "a = np.arange(16).reshape(4, 4)\n",
        "y=[]\n",
        "\n",
        "dict={3-k: np.diagonal(a[:, ::-1],k) for k in range(3,-4,-1)}\n",
        "dict\n"
      ],
      "execution_count": 0,
      "outputs": [
        {
          "output_type": "execute_result",
          "data": {
            "text/plain": [
              "{0: array([0]),\n",
              " 1: array([1, 4]),\n",
              " 2: array([2, 5, 8]),\n",
              " 3: array([ 3,  6,  9, 12]),\n",
              " 4: array([ 7, 10, 13]),\n",
              " 5: array([11, 14]),\n",
              " 6: array([15])}"
            ]
          },
          "metadata": {
            "tags": []
          },
          "execution_count": 39
        }
      ]
    },
    {
      "cell_type": "code",
      "metadata": {
        "id": "6uWJ38BIADOw",
        "colab_type": "code",
        "colab": {}
      },
      "source": [
        ""
      ],
      "execution_count": 0,
      "outputs": []
    },
    {
      "cell_type": "code",
      "metadata": {
        "id": "Lf6nxVQ3ANXa",
        "colab_type": "code",
        "colab": {}
      },
      "source": [
        "import numpy as np\n",
        "\n",
        "def my_k_means(DATA, k)\n",
        "  x=np.random.choice(DATA,k)\n",
        "  dist = np.linalg.norm(DATA,x)\n",
        "  a=np.argmin(dist, axis=0)\n",
        "  while a1!=a:\n",
        "    a1=a;\n",
        "    x=np.random.choice(DATA,k)\n",
        "    dist = np.linalg.norm(DATA,x)\n",
        "    a=np.argmin(dist, axis=0)\n",
        "    \n",
        "  \n",
        "  x[np.argmin(x*x-D)]\n",
        "  "
      ],
      "execution_count": 0,
      "outputs": []
    }
  ]
}