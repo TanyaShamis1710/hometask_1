{
  "nbformat": 4,
  "nbformat_minor": 0,
  "metadata": {
    "colab": {
      "name": "Untitled2.ipynb",
      "provenance": [],
      "collapsed_sections": [],
      "include_colab_link": true
    },
    "kernelspec": {
      "name": "python3",
      "display_name": "Python 3"
    }
  },
  "cells": [
    {
      "cell_type": "markdown",
      "metadata": {
        "id": "view-in-github",
        "colab_type": "text"
      },
      "source": [
        "<a href=\"https://colab.research.google.com/github/TanyaShamis1710/my_repo1/blob/hometask_2/Untitled2.ipynb\" target=\"_parent\"><img src=\"https://colab.research.google.com/assets/colab-badge.svg\" alt=\"Open In Colab\"/></a>"
      ]
    },
    {
      "cell_type": "code",
      "metadata": {
        "id": "8cWeLL1-T5Sk",
        "colab_type": "code",
        "outputId": "d25c6e30-e3df-49c3-c777-341aadd70d00",
        "colab": {
          "base_uri": "https://localhost:8080/",
          "height": 218
        }
      },
      "source": [
        "import numpy as np\n",
        "\n",
        "x= np.random.random((10,3))\n",
        "print(x)\n",
        "print(x[np.arange(10),np.argmin((abs(x-0.5)),axis=1)]);\n",
        "  \n",
        "  \n",
        "  \n",
        "  \n",
        "\n",
        "\n"
      ],
      "execution_count": 0,
      "outputs": [
        {
          "output_type": "stream",
          "text": [
            "[[0.62377491 0.30506879 0.0941978 ]\n",
            " [0.29066953 0.92135301 0.17431259]\n",
            " [0.92325195 0.65797472 0.82550743]\n",
            " [0.01192995 0.52079519 0.90343747]\n",
            " [0.17087366 0.80259401 0.56168951]\n",
            " [0.15651991 0.55046427 0.14649881]\n",
            " [0.60271296 0.92746503 0.12230179]\n",
            " [0.09268597 0.26443478 0.06467041]\n",
            " [0.47163101 0.26202453 0.90534642]\n",
            " [0.01053009 0.57389919 0.27024987]]\n",
            "[0.62377491 0.29066953 0.65797472 0.52079519 0.56168951 0.55046427\n",
            " 0.60271296 0.26443478 0.47163101 0.57389919]\n"
          ],
          "name": "stdout"
        }
      ]
    },
    {
      "cell_type": "code",
      "metadata": {
        "id": "SphCb8gZ_Syi",
        "colab_type": "code",
        "outputId": "f1d63720-a180-42c7-931f-9d230707bb07",
        "colab": {
          "base_uri": "https://localhost:8080/",
          "height": 151
        }
      },
      "source": [
        "import numpy as np\n",
        "\n",
        "x= np.random.random((6,6))\n",
        "print(x)\n",
        "\n",
        "x.sum(axis=1)/x.min(axis=0)"
      ],
      "execution_count": 0,
      "outputs": [
        {
          "output_type": "stream",
          "text": [
            "[[0.91963008 0.4118728  0.41329451 0.95218868 0.85436651 0.26455887]\n",
            " [0.61382805 0.10568723 0.37273609 0.17431729 0.05924267 0.50624672]\n",
            " [0.89258494 0.66129335 0.6732065  0.02014317 0.53241089 0.60394906]\n",
            " [0.28068119 0.16397442 0.93092505 0.13618529 0.07758769 0.93908157]\n",
            " [0.37251672 0.09563891 0.5757941  0.10384144 0.28192343 0.28270965]\n",
            " [0.02722969 0.460993   0.61980222 0.21865338 0.4657909  0.48813442]]\n"
          ],
          "name": "stdout"
        },
        {
          "output_type": "execute_result",
          "data": {
            "text/plain": [
              "array([140.13791146,  19.15598993,   9.07770391, 125.52319673,\n",
              "        28.90524873,   8.62040134])"
            ]
          },
          "metadata": {
            "tags": []
          },
          "execution_count": 45
        }
      ]
    },
    {
      "cell_type": "code",
      "metadata": {
        "id": "ylbVYjCuC5t7",
        "colab_type": "code",
        "outputId": "7435cef1-8835-4a23-f356-9510920c6ea3",
        "colab": {
          "base_uri": "https://localhost:8080/",
          "height": 34
        }
      },
      "source": [
        "import numpy as np\n",
        "\n",
        "x = np.array([6, 2, 0, 3, 0, 0, 5, 7, 0])\n",
        "zero= x==0;\n",
        "print(x[1:][zero[:-1]].max())\n"
      ],
      "execution_count": 0,
      "outputs": [
        {
          "output_type": "stream",
          "text": [
            "5\n"
          ],
          "name": "stdout"
        }
      ]
    },
    {
      "cell_type": "code",
      "metadata": {
        "id": "3TU-cr8xik_0",
        "colab_type": "code",
        "outputId": "68ef96bd-2646-45fb-f5c0-c81319a966b1",
        "colab": {
          "base_uri": "https://localhost:8080/",
          "height": 34
        }
      },
      "source": [
        "import numpy as np\n",
        "x = np.ones(10) \n",
        "i = np.array([0, 1, 2, 3, 5, 5, 5, 8])\n",
        "print(*(x[a]+np.count_nonzero(i==a) for a in range(len(x)) ))\n"
      ],
      "execution_count": 0,
      "outputs": [
        {
          "output_type": "stream",
          "text": [
            "2.0 2.0 2.0 2.0 1.0 4.0 1.0 1.0 2.0 1.0\n"
          ],
          "name": "stdout"
        }
      ]
    },
    {
      "cell_type": "code",
      "metadata": {
        "id": "JDrRMTKlr3RU",
        "colab_type": "code",
        "outputId": "e5c1d162-daf9-4c12-a74f-c03f675dfda4",
        "colab": {
          "base_uri": "https://localhost:8080/",
          "height": 134
        }
      },
      "source": [
        "import numpy as np\n",
        "a = np.arange(16).reshape(4, 4)\n",
        "y=[]\n",
        "\n",
        "dict={3-k: np.diagonal(a[:, ::-1],k) for k in range(3,-4,-1)}\n",
        "dict\n"
      ],
      "execution_count": 0,
      "outputs": [
        {
          "output_type": "execute_result",
          "data": {
            "text/plain": [
              "{0: array([0]),\n",
              " 1: array([1, 4]),\n",
              " 2: array([2, 5, 8]),\n",
              " 3: array([ 3,  6,  9, 12]),\n",
              " 4: array([ 7, 10, 13]),\n",
              " 5: array([11, 14]),\n",
              " 6: array([15])}"
            ]
          },
          "metadata": {
            "tags": []
          },
          "execution_count": 39
        }
      ]
    },
    {
      "cell_type": "code",
      "metadata": {
        "id": "6uWJ38BIADOw",
        "colab_type": "code",
        "colab": {}
      },
      "source": [
        ""
      ],
      "execution_count": 0,
      "outputs": []
    },
    {
      "cell_type": "code",
      "metadata": {
        "id": "fT7DYI7YwPxc",
        "colab_type": "code",
        "outputId": "15d237f1-dbe0-4f3d-b2f7-666e41af6cbb",
        "colab": {
          "base_uri": "https://localhost:8080/",
          "height": 101
        }
      },
      "source": [
        "import numpy as np\n",
        "from __future__ import division\n",
        "\n",
        "\n",
        "def kmeans( data, k):\n",
        "  \n",
        "  \n",
        "  \n",
        "    \n",
        "    centroids = data[np.random.choice(np.arange(len(data)), k, False)]\n",
        "    centroids1=centroids\n",
        "    ds = data[:,np.newaxis]-centroids\n",
        "   \n",
        "    e_dists =  np.sqrt(np.sum(np.square(ds),axis=-1))\n",
        "    cluster_allocs = np.argmin(e_dists, axis=1)\n",
        "    cop=np.zeros(len(ds[1,:,1])*len(ds[:,1,1])*len(ds[1,1,:])).reshape(len(ds[:,1,1]),len(ds[1,:,1]),len(ds[1,1,:]))\n",
        "    cop[np.arange(len(ds[:,1,1])),cluster_allocs,:]=ds[np.arange(len(ds[:,1,1])),cluster_allocs,:]\n",
        "    new_centroids=((cop.sum(axis=0)))/np.bincount(cluster_allocs)[:,np.newaxis]+centroids\n",
        "    \n",
        "   \n",
        "\n",
        "    while  np.array_equal(new_centroids, centroids)==False:\n",
        "      centroids=new_centroids\n",
        "      ds = data[:,np.newaxis]-centroids\n",
        "      e_dists =  np.sqrt(np.sum(np.square(ds),axis=-1))\n",
        "\n",
        "      cluster_allocs = np.argmin(e_dists, axis=1)\n",
        "      \n",
        "      cop=np.zeros(len(ds[1,:,1])*len(ds[:,1,1])*len(ds[1,1,:])).reshape(len(ds[:,1,1]),len(ds[1,:,1]),len(ds[1,1,:]))\n",
        "      cop[np.arange(len(ds[:,1,1])),cluster_allocs,:]=ds[np.arange(len(ds[:,1,1])),cluster_allocs,:]\n",
        "      new_centroids=((cop.sum(axis=0)))/np.bincount(cluster_allocs)[:,np.newaxis]+centroids\n",
        "    \n",
        "    \n",
        "    z=np.max(e_dists[:,cluster_allocs])\n",
        "    return centroids,z\n",
        "\n",
        "data= np.array([[ 1.9,2.3],\n",
        "            [ 1.5,2.5],\n",
        "            [ 0.8,0.6],\n",
        "            [ 0.1,0.1],\n",
        "            [ 0.2,1.8],\n",
        "            [ 2.0,0.5],\n",
        "            [ 0.3,1.5],\n",
        "            [ 1.0,1.0]])\n",
        "k=5\n",
        "kmeans(data,k)  \n",
        "  "
      ],
      "execution_count": 0,
      "outputs": [
        {
          "output_type": "execute_result",
          "data": {
            "text/plain": [
              "(array([[2.   , 0.5  ],\n",
              "        [0.575, 1.225],\n",
              "        [1.5  , 2.5  ],\n",
              "        [0.1  , 0.1  ],\n",
              "        [1.9  , 2.3  ]]), 2.842534080710379)"
            ]
          },
          "metadata": {
            "tags": []
          },
          "execution_count": 50
        }
      ]
    }
  ]
}