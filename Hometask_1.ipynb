{
  "nbformat": 4,
  "nbformat_minor": 0,
  "metadata": {
    "colab": {
      "name": "Untitled0.ipynb",
      "provenance": [],
      "include_colab_link": true
    },
    "kernelspec": {
      "name": "python3",
      "display_name": "Python 3"
    }
  },
  "cells": [
    {
      "cell_type": "markdown",
      "metadata": {
        "id": "view-in-github",
        "colab_type": "text"
      },
      "source": [
        "<a href=\"https://colab.research.google.com/github/TanyaShamis1710/my_repo1/blob/hometask_1/Hometask_1.ipynb\" target=\"_parent\"><img src=\"https://colab.research.google.com/assets/colab-badge.svg\" alt=\"Open In Colab\"/></a>"
      ]
    },
    {
      "cell_type": "code",
      "metadata": {
        "id": "PmqddVgOzLUz",
        "colab_type": "code",
        "outputId": "309b0b78-c6b5-4303-cd93-585706bb59d0",
        "colab": {
          "base_uri": "https://localhost:8080/",
          "height": 85
        }
      },
      "source": [
        "# NUMBER 2\n",
        "a = [1, 1, 2, 3, 5, 8, 13, 21, 34, 55, 89];\n",
        "for i in range(10):\n",
        "  if a[i]<5: print(a[i]);\n",
        "\n",
        "\n",
        "\n",
        "\n",
        "\n",
        "\n",
        "\n",
        "\n"
      ],
      "execution_count": 0,
      "outputs": [
        {
          "output_type": "stream",
          "text": [
            "1\n",
            "1\n",
            "2\n",
            "3\n"
          ],
          "name": "stdout"
        }
      ]
    },
    {
      "cell_type": "code",
      "metadata": {
        "id": "1N1ogsy-8Dsf",
        "colab_type": "code",
        "colab": {}
      },
      "source": [
        "# NUMBER 18\n",
        "import random\n",
        "a = random.randint(1000,9999);\n",
        "print(a);\n",
        "x=[a//1000,(a%1000)//100,(a%100)//10,a%10];\n",
        "b=0;\n",
        "while b!=a:\n",
        "  print(\"Enter:\");\n",
        "  b=int(input());\n",
        "  y=[b//1000,(b%1000)//100,(b%100)//10,b%10];\n",
        "  k=0; bull=0;\n",
        "  for i in range(4):\n",
        "    if (x[i]==y[i]): \n",
        "        k+=1;continue;\n",
        "    for j in range(4):\n",
        "      if (x[j]==y[i]): bull+=1;\n",
        "  print(k, \" kows \", bull, \" bulls\");\n",
        "\n"
      ],
      "execution_count": 0,
      "outputs": []
    },
    {
      "cell_type": "code",
      "metadata": {
        "id": "5TwVVRHm8K13",
        "colab_type": "code",
        "colab": {}
      },
      "source": [
        "# NUMBER 4\n",
        "print(\"Enter number:\");\n",
        "a=int(input());\n",
        "\n",
        "i=1;\n",
        "x=[]\n",
        "while i<=a:\n",
        "  if a%i==0: \n",
        "    x.append(i);\n",
        "  i+=1;\n",
        "print(x);\n"
      ],
      "execution_count": 0,
      "outputs": []
    },
    {
      "cell_type": "code",
      "metadata": {
        "id": "ShYhcsic8P5X",
        "colab_type": "code",
        "colab": {}
      },
      "source": [
        "# NUMBER 5\n",
        "a = [1, 1, 2, 3, 5, 8, 13, 21, 34, 55, 89];\n",
        "b = [1, 2, 3, 4, 5, 6, 7, 8, 9, 10, 11, 12, 13];\n",
        "x=[]; \n",
        "for i in range(11):\n",
        "  t=0;\n",
        "  for j in range(13):\n",
        "    if a[i]==b[j]:\n",
        "      for k in range(len(x)):\n",
        "        if a[i]==x[k]: t+=1;\n",
        "      if (t==0) or (len(x)==0): x.append(a[i]);\n",
        "print(x);\n"
      ],
      "execution_count": 0,
      "outputs": []
    },
    {
      "cell_type": "code",
      "metadata": {
        "id": "E2ivsEOZ8WFI",
        "colab_type": "code",
        "colab": {}
      },
      "source": [
        "# NUMBER 8\n",
        "i=0;\n",
        "\n",
        "while i==0:\n",
        "  print(\"Enter your result:\")\n",
        "  a=str(input());\n",
        "  b=str(input());\n",
        "  x=[a,b];\n",
        "  print(x);\n",
        "  if (x[0]=='Rock'): \n",
        "    if (x[1]=='Paper'): \n",
        "      print(\"pobeda 2\");\n",
        "      i=1;\n",
        "    if (x[1]=='Scissors'): \n",
        "      i=1;\n",
        "      print(\"pobeda 1\");\n",
        "  if (x[0]=='Paper'):  \n",
        "    if (x[1]=='Scissors'): \n",
        "      print(\"pobeda 2\");\n",
        "      i=1;\n",
        "    if (x[1]=='Rock'): \n",
        "      i=1;\n",
        "      print(\"pobeda 1\");\n",
        "  if (x[0]=='Scissors'):  \n",
        "    if (x[1]=='Rock'): \n",
        "      print(\"pobeda 2\");\n",
        "      i=1;\n",
        "    if (x[0]=='Paper'): \n",
        "      i=1;\n",
        "      print(\"pobeda 1\");\n"
      ],
      "execution_count": 0,
      "outputs": []
    },
    {
      "cell_type": "code",
      "metadata": {
        "id": "eqH461g373Qw",
        "colab_type": "code",
        "colab": {}
      },
      "source": [
        ""
      ],
      "execution_count": 0,
      "outputs": []
    },
    {
      "cell_type": "code",
      "metadata": {
        "id": "OfleNRLHR3ph",
        "colab_type": "code",
        "colab": {}
      },
      "source": [
        "\n"
      ],
      "execution_count": 0,
      "outputs": []
    }
  ]
}