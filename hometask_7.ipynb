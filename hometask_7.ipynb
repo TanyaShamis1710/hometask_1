{
  "nbformat": 4,
  "nbformat_minor": 0,
  "metadata": {
    "kernelspec": {
      "display_name": "Python 3",
      "language": "python",
      "name": "python3"
    },
    "language_info": {
      "codemirror_mode": {
        "name": "ipython",
        "version": 3
      },
      "file_extension": ".py",
      "mimetype": "text/x-python",
      "name": "python",
      "nbconvert_exporter": "python",
      "pygments_lexer": "ipython3",
      "version": "3.6.5"
    },
    "colab": {
      "name": "Topic Modeling",
      "provenance": [],
      "collapsed_sections": [],
      "include_colab_link": true
    }
  },
  "cells": [
    {
      "cell_type": "markdown",
      "metadata": {
        "id": "view-in-github",
        "colab_type": "text"
      },
      "source": [
        "<a href=\"https://colab.research.google.com/github/TanyaShamis1710/my_repo1/blob/hometask_7/hometask_7.ipynb\" target=\"_parent\"><img src=\"https://colab.research.google.com/assets/colab-badge.svg\" alt=\"Open In Colab\"/></a>"
      ]
    },
    {
      "cell_type": "markdown",
      "metadata": {
        "id": "elmONJBjB1wZ",
        "colab_type": "text"
      },
      "source": [
        "# Topic Modeling and Gibbs Sampling"
      ]
    },
    {
      "cell_type": "markdown",
      "metadata": {
        "id": "ke8yIh3yC-yw",
        "colab_type": "text"
      },
      "source": [
        "Задача: описать текст через распределение весов по некоторому фиксированному набору топиков (тегов). Например, для набора тегов Политика, Военные сражения, Спорт, Интернет, Драма представить роман \"Война и мир\" как вектор (0.3, 0.2, 0, 0, 0.5), а статью в газете про допинг в велоспорте как вектор (0.1, 0, 0.7, 0, 0.2).\n",
        "\n",
        "Для чего, например, это нужно: имея векторное представление для текстов, тексты можно сравнивать, рекомендовать похожие.\n",
        "\n",
        "Условие: даны только набор текстов и количество тем."
      ]
    },
    {
      "cell_type": "markdown",
      "metadata": {
        "id": "XJdIgvb5B1wd",
        "colab_type": "text"
      },
      "source": [
        "## Немного теории"
      ]
    },
    {
      "cell_type": "markdown",
      "metadata": {
        "id": "mipLvBaZB1we",
        "colab_type": "text"
      },
      "source": [
        "Будем представлять текст как неупорядоченный набор слов (Bag-of-words model). Предположим, что имеется K тегов и для каждого тега выбрано распределение $\\phi_k$ над списком всевозможных слов (словарем из N слов). По сути, каждое $\\phi_k$ - это вектор длины N из неотрицательных величин, в сумме дающих 1. Вектора $\\phi_k$ независимы и моделируются распредеделением Дирихле $Dir(\\beta)$. Теперь, чтобы собрать текст d из $n$ слов, будем действовать по следующей схеме:\n",
        "\n",
        "\n",
        "* выберем распредление для тегов $\\theta_d$. Вновь, $\\theta_d$ - это вектор длины K из неотрицательных величин, в сумме дающих 1. Поэтому естественно брать $\\theta_d \\sim Dir(\\theta | \\alpha)$\n",
        "\n",
        "* Для i от 1 до n:\n",
        "  * выберем тег $z_i$ согласно распределению $\\theta_d$\n",
        "  * выберем слово $w_i$ из распределения для данного тега, т.е. $w_i \\sim \\phi_{z_i}$\n",
        "  * добавляем слово $w_i$ в текст.\n",
        "\n",
        "Полученная модель называется моделью LDA (Latent Dirichlet Allocation). Описанная  схема задает совместное распределение скрытых и наблюдаемых параметров по всем текстам корпуса размера M в виде:\n",
        "\n",
        "\n",
        "$p(\\textbf{w}, \\textbf{z}, \\theta, \\phi | \\alpha, \\beta) = Dir(\\theta | \\alpha) Dir(\\phi|\\beta)Cat(\\textbf{z}|\\theta)Cat(\\textbf{w}|\\phi_z)$.\n",
        "\n",
        "Здесь $\\textbf{w}$ и $\\textbf{z}$ обозначают вектора слов и тегов по всем текстам, $\\theta$ - набор из $\\theta_d$ для каждого документа (матрица $M\\times K$), $\\phi$ - набор из $\\phi_k$ для каждого тега (матрица $K\\times N$).\n"
      ]
    },
    {
      "cell_type": "markdown",
      "metadata": {
        "id": "D9yKUGWnXCYm",
        "colab_type": "text"
      },
      "source": [
        "![img](https://www.researchgate.net/publication/336065245/figure/fig1/AS:807371718815752@1569503826964/Latent-Dirichlet-allocation-LDA-process-and-its-two-outputs-a-LDA-document.ppm)"
      ]
    },
    {
      "cell_type": "markdown",
      "metadata": {
        "id": "hiXKW7NQWeO8",
        "colab_type": "text"
      },
      "source": [
        "Наша задача - восстановить распределение $p(\\textbf{z}, \\theta, \\phi | \\textbf{w}, \\alpha, \\beta)$.\n",
        "\n",
        "\n",
        "Немного упростим жизнь, и поставим себе задачей восстановить распределение $p(\\textbf{z} | \\textbf{w}, \\alpha, \\beta) = \\int\\int p(\\textbf{z}, \\theta, \\phi | \\textbf{w}, \\alpha, \\beta)\\textrm{d}\\theta\\textrm{d}\\phi$.\n",
        "\n",
        "В этот момент на помощь приходить алгоритм Gibbs Sampling. Напомним, для оценки набора парамеров $\\textbf{z} = (z_1, z_2, ..., z_m)$ используется схема:\n",
        "\n",
        "$z_i^{(t)} \\sim p(z_i^{(t)}\\ | \\ z_1=z_1^{t}, ..., z_{i-1}=z_{i-1}^{t},\n",
        "z_{i+1}=z_{i+1}^{t-1}, z_{m}=z_{m}^{t-1})$."
      ]
    },
    {
      "cell_type": "markdown",
      "metadata": {
        "id": "aQeReuG_aDI7",
        "colab_type": "text"
      },
      "source": [
        "Условные распределения выводятся так. Сначала замечаем, что\n",
        "\n",
        "$p(z_i|\\textbf{z}_{\\hat{i}}, \\textbf{w}, \\alpha, \\beta) = \\frac{p(z_i,\\textbf{z}_{\\hat{i}}, \\textbf{w}| \\alpha, \\beta)}{p(\\textbf{z}_{\\hat{i}}, \\textbf{w}| \\alpha, \\beta)}  = \\frac{p(\\textbf{z}, \\textbf{w}| \\alpha, \\beta)}{p(\\textbf{z}_{\\hat{i}}, \\textbf{w}_{\\hat{i}}| \\alpha, \\beta)  p(w_i|\\alpha, \\beta)}$.\n",
        "\n",
        "Здесь $\\textbf{z}_{\\hat{i}}$, $\\textbf{w}_{\\hat{i}}$ - вектора без $i$-oй копмоненты. "
      ]
    },
    {
      "cell_type": "markdown",
      "metadata": {
        "id": "yA0r2c_ob2c9",
        "colab_type": "text"
      },
      "source": [
        "Далее расписываем:\n",
        "\n",
        "$p(\\textbf{z}, \\textbf{w}| \\alpha, \\beta) = \\int\\int p(\\textbf{z}, \\textbf{w}, \\theta, \\phi| \\alpha, \\beta)\\textrm{d}\\theta\\textrm{d}\\phi = \\int\\int Dir(\\theta | \\alpha) Dir(\\phi|\\beta)Cat(\\textbf{z}|\\theta)Cat(\\textbf{w}|\\phi_z)\\textrm{d}\\theta\\textrm{d}\\phi = \n",
        "\\int Dir(\\theta | \\alpha) Cat(\\textbf{z}|\\theta)\\textrm{d}\\theta \\int Dir(\\phi|\\beta)Cat(\\textbf{w}|\\phi_z)\\textrm{d}\\phi$\n",
        "\n",
        "и обнаруживаем, что оба интеграла в последнем выражении вычисляются аналитически. Для примера первый:\n",
        "\n",
        "$\\int Dir(\\theta | \\alpha) Cat(\\textbf{z}|\\theta)\\textrm{d}\\theta = \\prod\\limits_d \\int Dir(\\theta_d | \\alpha) Cat(\\textbf{z}_d|\\theta_d)\\textrm{d}\\theta_d = \\prod\\limits_d \\int \\frac{1}{B(\\alpha)}\\prod\\limits_k \\theta_{d, k}^{\\alpha-1}\\prod\\limits_i \\theta_{d, z_i}\\textrm{d}\\theta_d = \\prod\\limits_d\\frac{1}{B(\\alpha)}\\int\\prod\\limits_k \\theta_{d, k}^{n_{d, k} + \\alpha - 1}\\textrm{d}\\theta_d = \\prod\\limits_d \\frac{B(n_{d,\\cdot} + \\alpha)}{B(\\alpha)}$.\n",
        "\n",
        "Здесь  $n_{d,k}$ - количество тэгов $k$ в тексте $d$, $n_{d,\\cdot}$ - вектор длины $K$ из этих величин.\n",
        "\n",
        "Аналогично, второй интеграл \n",
        "$\\int Dir(\\phi|\\beta)Cat(\\textbf{w}|\\phi_z)\\textrm{d}\\phi = \\prod\\limits_k \\frac{B(n_{k,\\cdot} + \\beta)}{B(\\beta)}$,\n",
        "\n",
        "где $n_{k,\\cdot}$ - вектор длины $N$ встречаемости слов внутри тэга $k$.\n",
        "\n",
        "Получаем: \n",
        "\n",
        "$p(\\textbf{z}, \\textbf{w}| \\alpha, \\beta) = \\prod\\limits_d \\frac{B(n_{d,\\cdot} + \\alpha)}{B(\\alpha)} \\prod\\limits_k \\frac{B(n_{k,\\cdot} + \\beta)}{B(\\beta)}$.\n",
        "\n",
        "Теперь\n",
        "$p(z_i|\\textbf{z}_{\\hat{i}}, \\textbf{w}, \\alpha, \\beta) \\propto \\prod\\limits_d \\frac{B(n_{d,\\cdot} + \\alpha)}{B(n_{d,\\cdot}^{\\hat{i}} + \\alpha)} \\prod\\limits_k \\frac{B(n_{k,\\cdot} + \\beta)}{B(n_{k,\\cdot}^{\\hat{i}} + \\beta)}$.\n",
        "\n",
        "Знак $\\propto$ означает пропорциональность с точностью до общего множителя $p(w_i|\\alpha, \\beta)$. Векторы $n_{d,\\cdot}^{\\hat{i}}$ и $n_{k,\\cdot}^{\\hat{i}}$ получены из векторов $n_{d,\\cdot}$ и $n_{k,\\cdot}$ после выбрасывания $z_i$. \n",
        "\n",
        "Выражение упрощается дальше, расписывая бета-функцию через гамма-функции. Напомним,\n",
        "$B(x_1, ..., x_m) = \\frac{\\Gamma(x_1)\\cdot...\\cdot\\Gamma(x_m)}{\\Gamma(x_1 + ... + x_m)}$, а также $\\Gamma(n) = (n-1)\\Gamma(n-1)$. Получим:\n",
        "\n",
        "$p(z_i=k |\\textbf{z}_{\\hat{i}}, \\textbf{w}, \\alpha, \\beta) \\propto (n_{d_i, k}^{\\hat{i}} + \\alpha_k) \\frac{n_{k, w_i}^{\\hat{i}} + \\beta_{w_i}}{\\sum\\limits_{w}(n_{k, w}^{\\hat{i}} + \\beta_{w})}$.\n"
      ]
    },
    {
      "cell_type": "markdown",
      "metadata": {
        "id": "NiYEQ_IkZUim",
        "colab_type": "text"
      },
      "source": [
        "С этого места можно полностью собрать алгоритм моделирования плотности $p(\\textbf{z}| \\textbf{w}, \\alpha, \\beta)$. Введем  обозначение $n_k$ - количество слов, отнесенных к тегу $k$, $W$ - общее количество слов в корпусе, $\\beta_{sum} = \\sum\\limits_w\\beta_w$\n",
        "\n",
        "Алгоритм:\n",
        "\n",
        "* заведем счетчики $n_{k, w}$, $n_{d, k}$, $n_k$\n",
        "* случайным образом расставим теги словам, обновим счетчики $n_{k, w}$, $n_{d, k}$, $n_k$\n",
        "* пока не сойдемся к стационарному режиму:\n",
        "  * для каждого $i$ от 1 до $W$:\n",
        "      * для каждого $k$ от 1 до $K$:\n",
        "        * $I = I\\{z_i = k\\}$ (индикатор)\n",
        "        * вычисляем $p_k = (n_{d_i, k} + \\alpha_k - I) \\frac{n_{k, w_i} + \\beta_{w_i} - I}{n_k + \\beta_{sum} - I}$\n",
        "      * сэмплим новый $z_i$ из полученного распределения $(p_1, ..., p_K)$\n",
        "      * обновляем счетчики для учета обновленого значения $z_i$\n",
        "\n",
        "На практике удобно реализовавать так:\n",
        "\n",
        "* заведем счетчики $n_{k, w}$, $n_{d, k}$, $n_k$, заполненные нулями\n",
        "* случайным образом расставим теги словам, обновим счетчики $n_{k, w}$, $n_{d, k}$, $n_k$\n",
        "* пока не сойдемся к стационарному режиму:\n",
        "  * для каждого $i$ от 1 до $W$:\n",
        "      * $n_{d_i, z_i} \\mathrel{-}= 1$, $n_{z_i, w_i} \\mathrel{-}= 1$, $n_{z_i} \\mathrel{-}= 1$\n",
        "      * для каждого $k$ от 1 до $K$:\n",
        "        * вычисляем $p_k = (n_{d, k} + \\alpha_k) \\frac{n_{k, w_i} + \\beta_{w_i}}{n_k + \\beta_{sum}}$\n",
        "      * сэмплим новый $z_i$ из полученного распределения $(p_1, ..., p_K)$\n",
        "      * $n_{d_i, z_i} \\mathrel{+}= 1$, $n_{z_i, w_i} \\mathrel{+}= 1$, $n_{z_i} \\mathrel{+}= 1$\n",
        "\n",
        "\n",
        "\n"
      ]
    },
    {
      "cell_type": "markdown",
      "metadata": {
        "id": "eaV85RF1gd6l",
        "colab_type": "text"
      },
      "source": [
        "Восстановив распредление для $\\textbf{z}$, можем оценить $\\theta$ и $\\phi$, о которых мы ненадолго забыли. Оценить можно, например, через матожидание по апостериорным распределениям. Получите формулы самостоятельно!"
      ]
    },
    {
      "cell_type": "markdown",
      "metadata": {
        "id": "K13WQakft3kk",
        "colab_type": "text"
      },
      "source": [
        "Литература:\n",
        "\n",
        "http://u.cs.biu.ac.il/~89-680/darling-lda.pdf\n",
        "\n",
        "https://www.cs.cmu.edu/~mgormley/courses/10701-f16/slides/lecture20-topic-models.pdf"
      ]
    },
    {
      "cell_type": "markdown",
      "metadata": {
        "id": "S1M8TVaPiIwd",
        "colab_type": "text"
      },
      "source": [
        "Перейдем к практике."
      ]
    },
    {
      "cell_type": "markdown",
      "metadata": {
        "id": "KKGHWSSiB1we",
        "colab_type": "text"
      },
      "source": [
        "## Датасет\n",
        "\n",
        "Возьмем популярный датасет [20 Newsgroups](http://qwone.com/~jason/20Newsgroups/), встроенный в пакет ```sklearn```. Датасет состоит из ~20К текстов, классифицированных на 20 категорий. Датасет разбит на ```train``` и ```test```. Для загрузки используем  модуль ```fetch_20newsgroups```, в параметрах указать, что мета информацию о тексте загружать не нужно:"
      ]
    },
    {
      "cell_type": "code",
      "metadata": {
        "id": "ghK1srgpB1wf",
        "colab_type": "code",
        "outputId": "ad75d0e3-17d2-44d1-9de2-6af912add546",
        "colab": {
          "base_uri": "https://localhost:8080/",
          "height": 52
        }
      },
      "source": [
        "import numpy as np\n",
        "from sklearn.datasets import fetch_20newsgroups\n",
        "\n",
        "newsgroups_train = fetch_20newsgroups(subset='train', remove=('headers', 'footers', 'quotes'))"
      ],
      "execution_count": 2,
      "outputs": [
        {
          "output_type": "stream",
          "text": [
            "Downloading 20news dataset. This may take a few minutes.\n",
            "Downloading dataset from https://ndownloader.figshare.com/files/5975967 (14 MB)\n"
          ],
          "name": "stderr"
        }
      ]
    },
    {
      "cell_type": "markdown",
      "metadata": {
        "id": "_BSEchmRB1wh",
        "colab_type": "text"
      },
      "source": [
        "Выведем список категорий текстов:"
      ]
    },
    {
      "cell_type": "code",
      "metadata": {
        "id": "lR3knXluB1wi",
        "colab_type": "code",
        "outputId": "d6b41c1a-21d8-4baf-de17-f6c8f7ce8f1f",
        "colab": {
          "base_uri": "https://localhost:8080/",
          "height": 363
        }
      },
      "source": [
        "newsgroups_train.target_names"
      ],
      "execution_count": 0,
      "outputs": [
        {
          "output_type": "execute_result",
          "data": {
            "text/plain": [
              "['alt.atheism',\n",
              " 'comp.graphics',\n",
              " 'comp.os.ms-windows.misc',\n",
              " 'comp.sys.ibm.pc.hardware',\n",
              " 'comp.sys.mac.hardware',\n",
              " 'comp.windows.x',\n",
              " 'misc.forsale',\n",
              " 'rec.autos',\n",
              " 'rec.motorcycles',\n",
              " 'rec.sport.baseball',\n",
              " 'rec.sport.hockey',\n",
              " 'sci.crypt',\n",
              " 'sci.electronics',\n",
              " 'sci.med',\n",
              " 'sci.space',\n",
              " 'soc.religion.christian',\n",
              " 'talk.politics.guns',\n",
              " 'talk.politics.mideast',\n",
              " 'talk.politics.misc',\n",
              " 'talk.religion.misc']"
            ]
          },
          "metadata": {
            "tags": []
          },
          "execution_count": 2
        }
      ]
    },
    {
      "cell_type": "markdown",
      "metadata": {
        "id": "unhqlZciB1wl",
        "colab_type": "text"
      },
      "source": [
        "Атрибут ```traget``` хранит номера категорий для текстов из обучающей выборки:"
      ]
    },
    {
      "cell_type": "code",
      "metadata": {
        "id": "PNjAq0D4B1wl",
        "colab_type": "code",
        "outputId": "1031d3a2-43f3-457c-aa83-75c3a2161ee2",
        "colab": {
          "base_uri": "https://localhost:8080/",
          "height": 34
        }
      },
      "source": [
        "newsgroups_train.target[:10]"
      ],
      "execution_count": 3,
      "outputs": [
        {
          "output_type": "execute_result",
          "data": {
            "text/plain": [
              "array([ 7,  4,  4,  1, 14, 16, 13,  3,  2,  4])"
            ]
          },
          "metadata": {
            "tags": []
          },
          "execution_count": 3
        }
      ]
    },
    {
      "cell_type": "markdown",
      "metadata": {
        "id": "OjzuWGdBB1wp",
        "colab_type": "text"
      },
      "source": [
        "Доступ к самим текстам через атрибут ```data```. Выведем текст и категорию случайного примера из обучающего датасета:"
      ]
    },
    {
      "cell_type": "code",
      "metadata": {
        "id": "etlhxjk0B1wq",
        "colab_type": "code",
        "outputId": "40a62957-7eb5-4741-9eae-da57cc455464",
        "colab": {
          "base_uri": "https://localhost:8080/",
          "height": 260
        }
      },
      "source": [
        "n = 854\n",
        "print('Topic = {0}\\n'.format(newsgroups_train.target_names[newsgroups_train.target[n]]))\n",
        "print(newsgroups_train.data[n])"
      ],
      "execution_count": 4,
      "outputs": [
        {
          "output_type": "stream",
          "text": [
            "Topic = rec.motorcycles\n",
            "\n",
            "hey... I'm pretty new to the wonderful world of motorcycles... I just\n",
            "bought\n",
            "a used 81 Kaw KZ650 CSR from a friend.... I was just wondering what kind of\n",
            "\n",
            "saddle bags I could get for it (since I know nothing about them)  are there\n",
            "bags for the gas tank?  how much would some cost, and how much do they\n",
            "hold?\n",
            "thanks for your advice!!!  I may be new to riding, but I love it\n",
            "already!!!!\n",
            ":)\n",
            "\n",
            "\n"
          ],
          "name": "stdout"
        }
      ]
    },
    {
      "cell_type": "markdown",
      "metadata": {
        "id": "fLheZ8pTB1wx",
        "colab_type": "text"
      },
      "source": [
        "## Векторное представление текста\n",
        "\n",
        "Представим текст как вектор индикаторов вхождений слов из некоторого словаря в текст. Это простейшая модель BOF. \n",
        "\n",
        "Сформируем словарь на основе нашего набора текстов. Для этого используем модуль ```CountVectorizer```:"
      ]
    },
    {
      "cell_type": "code",
      "metadata": {
        "id": "-eXBAq3SB1wy",
        "colab_type": "code",
        "outputId": "ec605c45-922e-4aa3-baf9-b8423983c387",
        "colab": {
          "base_uri": "https://localhost:8080/",
          "height": 260
        }
      },
      "source": [
        "from sklearn.feature_extraction.text import CountVectorizer\n",
        "from sklearn.feature_extraction.stop_words import ENGLISH_STOP_WORDS\n",
        "\n",
        "vectorizer = CountVectorizer(lowercase=True, stop_words=ENGLISH_STOP_WORDS,\n",
        "                             analyzer='word', binary=True, min_df=20, max_df=.04)\n",
        "vectorizer.fit(newsgroups_train.data)"
      ],
      "execution_count": 5,
      "outputs": [
        {
          "output_type": "execute_result",
          "data": {
            "text/plain": [
              "CountVectorizer(analyzer='word', binary=True, decode_error='strict',\n",
              "                dtype=<class 'numpy.int64'>, encoding='utf-8', input='content',\n",
              "                lowercase=True, max_df=0.04, max_features=None, min_df=20,\n",
              "                ngram_range=(1, 1), preprocessor=None,\n",
              "                stop_words=frozenset({'a', 'about', 'above', 'across', 'after',\n",
              "                                      'afterwards', 'again', 'against', 'all',\n",
              "                                      'almost', 'alone', 'along', 'already',\n",
              "                                      'also', 'although', 'always', 'am',\n",
              "                                      'among', 'amongst', 'amoungst', 'amount',\n",
              "                                      'an', 'and', 'another', 'any', 'anyhow',\n",
              "                                      'anyone', 'anything', 'anyway',\n",
              "                                      'anywhere', ...}),\n",
              "                strip_accents=None, token_pattern='(?u)\\\\b\\\\w\\\\w+\\\\b',\n",
              "                tokenizer=None, vocabulary=None)"
            ]
          },
          "metadata": {
            "tags": []
          },
          "execution_count": 5
        }
      ]
    },
    {
      "cell_type": "markdown",
      "metadata": {
        "id": "WYt0K78cB1w0",
        "colab_type": "text"
      },
      "source": [
        "Количество проиндексированных слов:"
      ]
    },
    {
      "cell_type": "code",
      "metadata": {
        "id": "RjjRR9cTB1w1",
        "colab_type": "code",
        "outputId": "73abf869-a962-4196-d3d5-38378d9c2cbe",
        "colab": {
          "base_uri": "https://localhost:8080/",
          "height": 34
        }
      },
      "source": [
        "len(vectorizer.vocabulary_)"
      ],
      "execution_count": 6,
      "outputs": [
        {
          "output_type": "execute_result",
          "data": {
            "text/plain": [
              "5877"
            ]
          },
          "metadata": {
            "tags": []
          },
          "execution_count": 6
        }
      ]
    },
    {
      "cell_type": "markdown",
      "metadata": {
        "id": "rDTu6nCHB1xJ",
        "colab_type": "text"
      },
      "source": [
        "Проиндексированные слова и их индексы:"
      ]
    },
    {
      "cell_type": "code",
      "metadata": {
        "id": "0TRxTcoeB1xK",
        "colab_type": "code",
        "outputId": "a943aa92-bb02-4c4a-db0f-aa99547248d2",
        "colab": {
          "base_uri": "https://localhost:8080/",
          "height": 1000
        }
      },
      "source": [
        "vectorizer.vocabulary_"
      ],
      "execution_count": 7,
      "outputs": [
        {
          "output_type": "execute_result",
          "data": {
            "text/plain": [
              "{'wondering': 5813,\n",
              " 'car': 989,\n",
              " 'saw': 4673,\n",
              " 'door': 1791,\n",
              " 'sports': 5027,\n",
              " 'looked': 3198,\n",
              " 'late': 3055,\n",
              " 'early': 1851,\n",
              " 'doors': 1792,\n",
              " 'small': 4928,\n",
              " 'addition': 360,\n",
              " 'separate': 4773,\n",
              " 'rest': 4509,\n",
              " 'body': 835,\n",
              " 'model': 3443,\n",
              " 'engine': 1947,\n",
              " 'specs': 5003,\n",
              " 'production': 4152,\n",
              " 'history': 2591,\n",
              " 'info': 2778,\n",
              " 'fair': 2123,\n",
              " 'souls': 4971,\n",
              " 'upgraded': 5576,\n",
              " 'si': 4856,\n",
              " 'clock': 1156,\n",
              " 'shared': 4820,\n",
              " 'experiences': 2069,\n",
              " 'poll': 4007,\n",
              " 'brief': 881,\n",
              " 'message': 3366,\n",
              " 'procedure': 4136,\n",
              " 'speed': 5008,\n",
              " 'cpu': 1452,\n",
              " 'rated': 4305,\n",
              " 'add': 357,\n",
              " 'cards': 991,\n",
              " 'adapters': 355,\n",
              " 'heat': 2556,\n",
              " 'hour': 2637,\n",
              " 'usage': 5585,\n",
              " 'floppy': 2245,\n",
              " 'disk': 1745,\n",
              " 'functionality': 2333,\n",
              " '800': 258,\n",
              " 'floppies': 2244,\n",
              " 'especially': 1989,\n",
              " 'requested': 4472,\n",
              " 'days': 1538,\n",
              " 'network': 3583,\n",
              " 'knowledge': 3020,\n",
              " 'base': 724,\n",
              " 'upgrade': 5575,\n",
              " 'haven': 2539,\n",
              " 'answered': 497,\n",
              " 'folks': 2253,\n",
              " 'mac': 3227,\n",
              " 'plus': 3991,\n",
              " 'finally': 2202,\n",
              " 'gave': 2359,\n",
              " 'weekend': 5754,\n",
              " 'starting': 5057,\n",
              " '1985': 104,\n",
              " 'market': 3286,\n",
              " 'machine': 3228,\n",
              " 'sooner': 4964,\n",
              " 'intended': 2836,\n",
              " 'picking': 3928,\n",
              " 'powerbook': 4046,\n",
              " '160': 71,\n",
              " '180': 79,\n",
              " 'bunch': 922,\n",
              " 'questions': 4263,\n",
              " 'hopefully': 2623,\n",
              " 'somebody': 4956,\n",
              " 'answer': 496,\n",
              " 'anybody': 502,\n",
              " 'dirt': 1721,\n",
              " 'round': 4605,\n",
              " 'expected': 2063,\n",
              " 'supposed': 5204,\n",
              " 'summer': 5190,\n",
              " 'anymore': 503,\n",
              " 'access': 315,\n",
              " 'rumors': 4622,\n",
              " 'price': 4104,\n",
              " 'drops': 1826,\n",
              " 'ones': 3703,\n",
              " 'duo': 1841,\n",
              " 'went': 5761,\n",
              " 'recently': 4348,\n",
              " 'impression': 2724,\n",
              " 'display': 1747,\n",
              " 'swing': 5229,\n",
              " '120': 35,\n",
              " 'feel': 2172,\n",
              " 'looks': 3199,\n",
              " 'store': 5104,\n",
              " 'wow': 5836,\n",
              " 'opinions': 3723,\n",
              " 'worth': 5829,\n",
              " 'taking': 5250,\n",
              " 'size': 4900,\n",
              " 'money': 3460,\n",
              " 'hit': 2592,\n",
              " 'active': 344,\n",
              " 'realize': 4333,\n",
              " 'subjective': 5149,\n",
              " 'played': 3976,\n",
              " 'machines': 3229,\n",
              " 'computer': 1268,\n",
              " 'figured': 2191,\n",
              " 'uses': 5591,\n",
              " 'daily': 1513,\n",
              " 'prove': 4202,\n",
              " 'helpful': 2569,\n",
              " 'perform': 3881,\n",
              " 'advance': 383,\n",
              " 'summary': 5189,\n",
              " 'news': 3589,\n",
              " 'reading': 4326,\n",
              " 'finals': 2203,\n",
              " 'corner': 1411,\n",
              " 'tom': 5406,\n",
              " 'purdue': 4237,\n",
              " 'electrical': 1904,\n",
              " 'engineering': 1949,\n",
              " 'address': 364,\n",
              " 'phone': 3914,\n",
              " 'chip': 1089,\n",
              " 'article': 588,\n",
              " 'std': 5077,\n",
              " 'understanding': 5543,\n",
              " 'errors': 1981,\n",
              " 'basically': 728,\n",
              " 'known': 3021,\n",
              " 'bugs': 911,\n",
              " 'warning': 5721,\n",
              " 'checked': 1073,\n",
              " 'values': 5618,\n",
              " 'aren': 557,\n",
              " 'till': 5384,\n",
              " 'launch': 3061,\n",
              " 'fix': 2224,\n",
              " 'code': 1176,\n",
              " 'possibly': 4030,\n",
              " 'introduce': 2862,\n",
              " 'crew': 1469,\n",
              " 'ok': 3698,\n",
              " '213': 130,\n",
              " 'ignore': 2684,\n",
              " 'term': 5318,\n",
              " 'defined': 1587,\n",
              " 'doubt': 1797,\n",
              " 'quote': 4268,\n",
              " 'presenting': 4086,\n",
              " 'argument': 564,\n",
              " 'weapons': 5748,\n",
              " 'mass': 3298,\n",
              " 'destruction': 1662,\n",
              " 'commonly': 1220,\n",
              " 'understood': 5544,\n",
              " 'switching': 5233,\n",
              " 'topics': 5418,\n",
              " 'allowed': 443,\n",
              " 'later': 3057,\n",
              " 'analysis': 475,\n",
              " 'consider': 1323,\n",
              " 'class': 1138,\n",
              " 'responded': 4502,\n",
              " 'request': 4471,\n",
              " 'treatment': 5467,\n",
              " 'couldn': 1430,\n",
              " 'thank': 5341,\n",
              " 'directly': 1717,\n",
              " 'publicly': 4221,\n",
              " 'glad': 2403,\n",
              " 'instead': 2813,\n",
              " 'rm': 4568,\n",
              " 'delete': 1598,\n",
              " 'file': 2193,\n",
              " 'september': 4778,\n",
              " 'hmmm': 2600,\n",
              " 'shows': 4853,\n",
              " 'scsi': 4712,\n",
              " 'range': 4295,\n",
              " '5mb': 220,\n",
              " 'controller': 1377,\n",
              " 'burst': 931,\n",
              " 'note': 3618,\n",
              " 'increase': 2748,\n",
              " 'quadra': 4249,\n",
              " 'version': 5643,\n",
              " 'exist': 2050,\n",
              " 'pc': 3864,\n",
              " 'mode': 3442,\n",
              " '16': 70,\n",
              " 'wide': 5770,\n",
              " 'fast': 2147,\n",
              " '32': 171,\n",
              " 'twice': 5515,\n",
              " 'correct': 1418,\n",
              " 'reach': 4316,\n",
              " 'faster': 2148,\n",
              " 'ide': 2671,\n",
              " '96': 278,\n",
              " 'facts': 2116,\n",
              " 'posted': 4033,\n",
              " 'newsgroup': 3590,\n",
              " 'ibm': 2664,\n",
              " 'sheet': 4828,\n",
              " 'ftp': 2328,\n",
              " 'aim': 419,\n",
              " 'stanford': 5050,\n",
              " '36': 177,\n",
              " '44': 194,\n",
              " 'report': 4454,\n",
              " 'compare': 1232,\n",
              " 'txt': 5519,\n",
              " '161': 72,\n",
              " 'documented': 1779,\n",
              " 'apple': 524,\n",
              " 'maximum': 3319,\n",
              " 'slower': 4926,\n",
              " 'interface': 2845,\n",
              " 'driven': 1818,\n",
              " 'win': 5782,\n",
              " 'downloaded': 1801,\n",
              " 'icons': 2669,\n",
              " 'bmp': 828,\n",
              " 'figure': 2190,\n",
              " 'change': 1049,\n",
              " 'appreciated': 534,\n",
              " 'thanx': 5342,\n",
              " 'board': 830,\n",
              " 'licensing': 3137,\n",
              " 'technologies': 5293,\n",
              " 'owners': 3775,\n",
              " 'compression': 1263,\n",
              " 'technology': 5294,\n",
              " 'writing': 5842,\n",
              " 'memory': 3351,\n",
              " 'lost': 3207,\n",
              " 'reference': 4369,\n",
              " 'fault': 2155,\n",
              " 'icon': 2668,\n",
              " 'usually': 5595,\n",
              " 'mentioned': 3355,\n",
              " 'freeware': 2316,\n",
              " 'expansion': 2060,\n",
              " 'utility': 5600,\n",
              " 'expand': 2058,\n",
              " 'compressed': 1262,\n",
              " 'unless': 5562,\n",
              " 'installed': 2809,\n",
              " 'product': 4151,\n",
              " 'unlikely': 5564,\n",
              " 'holes': 2607,\n",
              " 'related': 4402,\n",
              " 'fixed': 2225,\n",
              " 'sad': 4640,\n",
              " 'buy': 940,\n",
              " 'hey': 2575,\n",
              " 'competition': 1242,\n",
              " '1978': 97,\n",
              " 'runs': 4624,\n",
              " 'paint': 3797,\n",
              " 'brown': 897,\n",
              " 'orange': 3737,\n",
              " 'oil': 3696,\n",
              " 'pops': 4014,\n",
              " '1st': 119,\n",
              " 'shop': 4841,\n",
              " 'sold': 4946,\n",
              " 'bike': 794,\n",
              " 'owner': 3774,\n",
              " 'thinking': 5355,\n",
              " 'nice': 3596,\n",
              " 'stable': 5038,\n",
              " 'axis': 692,\n",
              " 'motors': 3493,\n",
              " 'tx': 5518,\n",
              " 'org': 3745,\n",
              " 'dod': 1781,\n",
              " 'yep': 5865,\n",
              " 'jew': 2928,\n",
              " 'understand': 5542,\n",
              " 'jewish': 2929,\n",
              " 'jews': 2930,\n",
              " 'abraham': 297,\n",
              " 'moral': 3471,\n",
              " 'follow': 2254,\n",
              " 'mankind': 3265,\n",
              " 'decide': 1561,\n",
              " 'boundaries': 859,\n",
              " 'fall': 2127,\n",
              " 'believed': 770,\n",
              " 'required': 4476,\n",
              " 'modern': 3449,\n",
              " 'judaism': 2955,\n",
              " 'interpretation': 2854,\n",
              " 'lead': 3079,\n",
              " 'morality': 3472,\n",
              " 'essence': 1991,\n",
              " 'biblical': 791,\n",
              " 'man': 3256,\n",
              " 'christian': 1101,\n",
              " 'necessarily': 3565,\n",
              " 'indicate': 2761,\n",
              " 'outside': 3767,\n",
              " 'relationship': 4407,\n",
              " 'speculate': 5005,\n",
              " 'trouble': 5488,\n",
              " 'created': 1462,\n",
              " 'image': 2696,\n",
              " 'conclusion': 1284,\n",
              " 'wants': 5715,\n",
              " 'script': 4709,\n",
              " 'foundation': 2297,\n",
              " 'mix': 3434,\n",
              " 'living': 3177,\n",
              " 'christ': 1100,\n",
              " 'jesus': 2925,\n",
              " 'recorded': 4356,\n",
              " 'followers': 2256,\n",
              " 'references': 4370,\n",
              " 'revelation': 4531,\n",
              " 'aside': 594,\n",
              " 'hand': 2503,\n",
              " 'worse': 5826,\n",
              " 'attempt': 641,\n",
              " 'christianity': 1102,\n",
              " 'initially': 2788,\n",
              " 'bible': 790,\n",
              " 'interpret': 2853,\n",
              " 'humanity': 2652,\n",
              " 'guess': 2478,\n",
              " 'faith': 2125,\n",
              " 'comes': 1201,\n",
              " 'inherent': 2784,\n",
              " 'absolute': 299,\n",
              " 'multiple': 3519,\n",
              " 'codes': 1177,\n",
              " 'founded': 2298,\n",
              " 'parent': 3817,\n",
              " 'child': 1085,\n",
              " 'swear': 5226,\n",
              " 'assume': 614,\n",
              " 'simply': 4884,\n",
              " 'told': 5403,\n",
              " 'pub': 4217,\n",
              " 'bar': 720,\n",
              " 'children': 1086,\n",
              " 'inappropriate': 2732,\n",
              " 'happy': 2523,\n",
              " 'animals': 486,\n",
              " 'analogy': 474,\n",
              " 'hold': 2603,\n",
              " 'water': 5737,\n",
              " 'knows': 3022,\n",
              " 'type': 5520,\n",
              " 'incidentally': 2736,\n",
              " 'young': 5869,\n",
              " 'considers': 1330,\n",
              " 'gets': 2389,\n",
              " 'older': 3700,\n",
              " 'david': 1534,\n",
              " 'religion': 4419,\n",
              " 'description': 1641,\n",
              " 'external': 2101,\n",
              " 'tank': 5259,\n",
              " 'option': 3734,\n",
              " 'deleted': 1599,\n",
              " 'yo': 5867,\n",
              " 'ken': 2985,\n",
              " 'orbiter': 3740,\n",
              " 'options': 3736,\n",
              " 'today': 5400,\n",
              " '23': 138,\n",
              " 'edition': 1876,\n",
              " 'york': 5868,\n",
              " 'reports': 4459,\n",
              " 'panel': 3805,\n",
              " 'proposals': 4188,\n",
              " 'dropped': 1824,\n",
              " 'giant': 2391,\n",
              " 'fuel': 2329,\n",
              " 'tanks': 5260,\n",
              " 'space': 4984,\n",
              " 'building': 913,\n",
              " 'station': 5067,\n",
              " 'existing': 2055,\n",
              " 'shuttle': 4855,\n",
              " 'wings': 5787,\n",
              " 'tail': 5247,\n",
              " 'removed': 4435,\n",
              " 'currently': 1498,\n",
              " 'considered': 1328,\n",
              " 'presented': 4085,\n",
              " 'meeting': 3343,\n",
              " 'yesterday': 5866,\n",
              " 'reported': 4455,\n",
              " 'low': 3215,\n",
              " 'cost': 1428,\n",
              " 'approach': 535,\n",
              " 'studied': 5137,\n",
              " 'team': 5283,\n",
              " 'teams': 5284,\n",
              " 'supporting': 5201,\n",
              " 'crystal': 1487,\n",
              " 'city': 1125,\n",
              " 'site': 4894,\n",
              " 'locations': 3186,\n",
              " 'helping': 2570,\n",
              " 'respective': 4499,\n",
              " 'activities': 346,\n",
              " 'key': 2991,\n",
              " 'features': 2163,\n",
              " 'bus': 932,\n",
              " 'developed': 1675,\n",
              " 'qualified': 4251,\n",
              " 'provides': 4208,\n",
              " 'propulsion': 4193,\n",
              " 'communications': 1223,\n",
              " 'management': 3259,\n",
              " 'air': 422,\n",
              " 'force': 2269,\n",
              " 'capability': 980,\n",
              " 'obtained': 3662,\n",
              " 'solar': 4944,\n",
              " 'provide': 4206,\n",
              " 'vehicle': 5632,\n",
              " 'environment': 1968,\n",
              " 'missions': 3428,\n",
              " 'source': 4977,\n",
              " 'human': 2650,\n",
              " 'tended': 5312,\n",
              " 'opposed': 3729,\n",
              " 'achieved': 332,\n",
              " 'common': 1219,\n",
              " 'module': 3453,\n",
              " 'modified': 3451,\n",
              " 'lab': 3027,\n",
              " 'ports': 4022,\n",
              " 'added': 358,\n",
              " 'international': 2851,\n",
              " 'partners': 3833,\n",
              " 'labs': 3033,\n",
              " '60': 222,\n",
              " 'esa': 1983,\n",
              " 'modules': 3454,\n",
              " 'permanent': 3889,\n",
              " 'presence': 4081,\n",
              " '3rd': 185,\n",
              " 'assured': 621,\n",
              " 'return': 4524,\n",
              " 'freedom': 2314,\n",
              " 'derived': 1636,\n",
              " 'mike': 3389,\n",
              " 'alot': 447,\n",
              " 'design': 1646,\n",
              " 'love': 3211,\n",
              " 'assumes': 616,\n",
              " 'assembly': 603,\n",
              " '51': 210,\n",
              " 'orbit': 3738,\n",
              " 'build': 912,\n",
              " 'occurs': 3674,\n",
              " 'initial': 2787,\n",
              " 'research': 4481,\n",
              " 'reached': 4317,\n",
              " 'adopted': 379,\n",
              " 'language': 3046,\n",
              " 'keeping': 2980,\n",
              " 'supply': 5198,\n",
              " 'tolerance': 5404,\n",
              " '14': 54,\n",
              " '2nd': 163,\n",
              " 'thermal': 5354,\n",
              " 'control': 1375,\n",
              " 'finish': 2211,\n",
              " '24': 140,\n",
              " 'systems': 5243,\n",
              " 'exception': 2033,\n",
              " 'major': 3250,\n",
              " 'changes': 1051,\n",
              " 'reduced': 4365,\n",
              " 'prices': 4106,\n",
              " 'forsale': 2290,\n",
              " 'behalf': 763,\n",
              " 'brother': 894,\n",
              " 'moving': 3506,\n",
              " 'moved': 3501,\n",
              " 'offer': 3682,\n",
              " 'black': 811,\n",
              " 'portable': 4018,\n",
              " 'purchased': 4235,\n",
              " '12': 34,\n",
              " '1000': 13,\n",
              " 'dual': 1836,\n",
              " 'cassette': 1008,\n",
              " 'player': 3977,\n",
              " 'fm': 2251,\n",
              " 'band': 714,\n",
              " 'graphics': 2447,\n",
              " 'tape': 5262,\n",
              " 'deck': 1566,\n",
              " 'sound': 4972,\n",
              " 'bet': 785,\n",
              " '80': 257,\n",
              " '25': 144,\n",
              " 'zoom': 5876,\n",
              " 'japan': 2916,\n",
              " 'includes': 2740,\n",
              " 'accessories': 318,\n",
              " '50': 206,\n",
              " '1400': 56,\n",
              " 'hair': 2496,\n",
              " 'head': 2542,\n",
              " 'bag': 706,\n",
              " 'leather': 3093,\n",
              " 'brand': 872,\n",
              " 'speeds': 5010,\n",
              " 'extra': 2102,\n",
              " 'angle': 483,\n",
              " 'dry': 1831,\n",
              " 'iron': 2883,\n",
              " 'contact': 1346,\n",
              " 'reply': 4453,\n",
              " 'included': 2739,\n",
              " 'reasonable': 4336,\n",
              " 'happened': 2519,\n",
              " 'japanese': 2917,\n",
              " 'citizens': 1124,\n",
              " 'war': 5716,\n",
              " 'ii': 2687,\n",
              " 'prepared': 4079,\n",
              " 'stick': 5090,\n",
              " 'concentration': 1274,\n",
              " 'camp': 966,\n",
              " 'trial': 5473,\n",
              " 'short': 4843,\n",
              " 'step': 5083,\n",
              " 'nazis': 3554,\n",
              " 'originally': 3753,\n",
              " 'final': 2201,\n",
              " 'solution': 4952,\n",
              " 'partly': 3832,\n",
              " 'afford': 398,\n",
              " 'camps': 969,\n",
              " 'caused': 1019,\n",
              " 'total': 5425,\n",
              " 'weren': 5762,\n",
              " 'generally': 2372,\n",
              " 'died': 1694,\n",
              " 'disease': 1743,\n",
              " 'certainly': 1037,\n",
              " 'tiff': 5382,\n",
              " 'works': 5821,\n",
              " 'complexity': 1255,\n",
              " 'led': 3099,\n",
              " 'programs': 4164,\n",
              " 'poor': 4010,\n",
              " 'writers': 5840,\n",
              " 'making': 3254,\n",
              " 'bizarre': 809,\n",
              " 'files': 2196,\n",
              " 'inability': 2731,\n",
              " 'load': 3178,\n",
              " 'images': 2697,\n",
              " 'save': 4669,\n",
              " 'general': 2371,\n",
              " 'environments': 1970,\n",
              " 'despite': 1658,\n",
              " 'saying': 4674,\n",
              " 'goes': 2415,\n",
              " 'worried': 5824,\n",
              " 'abuse': 303,\n",
              " 'unnecessary': 5566,\n",
              " 'format': 2283,\n",
              " 'words': 5817,\n",
              " 'spec': 4993,\n",
              " 'page': 3792,\n",
              " 'emphasis': 1916,\n",
              " 'sort': 4967,\n",
              " 'success': 5163,\n",
              " 'designed': 1648,\n",
              " 'powerful': 4048,\n",
              " 'flexible': 2239,\n",
              " 'expense': 2065,\n",
              " 'takes': 5249,\n",
              " 'effort': 1892,\n",
              " 'handle': 2509,\n",
              " 'specification': 4998,\n",
              " 'application': 526,\n",
              " 'complete': 1251,\n",
              " 'job': 2932,\n",
              " 'import': 2719,\n",
              " 'generating': 2376,\n",
              " 'applications': 527,\n",
              " 'deal': 1544,\n",
              " 'reasoning': 4338,\n",
              " 'asking': 596,\n",
              " 'rates': 4306,\n",
              " 'single': 4889,\n",
              " 'male': 3255,\n",
              " 'drivers': 1820,\n",
              " 'paying': 3859,\n",
              " 'performance': 3882,\n",
              " 'cars': 1003,\n",
              " 'replies': 4452,\n",
              " 'received': 4344,\n",
              " '27': 153,\n",
              " 'close': 1158,\n",
              " '1992': 112,\n",
              " 'dodge': 1782,\n",
              " 'stealth': 5080,\n",
              " 'twin': 5516,\n",
              " 'turbo': 5505,\n",
              " 'tickets': 5379,\n",
              " 'accidents': 321,\n",
              " 'house': 2639,\n",
              " 'taken': 5248,\n",
              " 'defensive': 1584,\n",
              " 'driving': 1822,\n",
              " 'security': 4739,\n",
              " 'alarm': 429,\n",
              " '1500': 66,\n",
              " '500': 207,\n",
              " 'farm': 2143,\n",
              " 'insurance': 2822,\n",
              " 'additional': 361,\n",
              " '100': 12,\n",
              " '000': 1,\n",
              " 'policy': 4002,\n",
              " 'standard': 5045,\n",
              " '300': 164,\n",
              " 'bought': 856,\n",
              " 'company': 1230,\n",
              " 'accident': 319,\n",
              " 'ticket': 5378,\n",
              " '11': 25,\n",
              " 'quoted': 4269,\n",
              " 'helps': 2571,\n",
              " 'steve': 5087,\n",
              " 'university': 5559,\n",
              " '45': 195,\n",
              " 'kevin': 2990,\n",
              " 'correctly': 1422,\n",
              " 'asked': 595,\n",
              " 'similar': 4877,\n",
              " 'situation': 4897,\n",
              " 'age': 403,\n",
              " 'record': 4355,\n",
              " 'clean': 1143,\n",
              " 'illinois': 2693,\n",
              " 'turn': 5510,\n",
              " 'higher': 2580,\n",
              " 'rate': 4304,\n",
              " 'couple': 1440,\n",
              " 'friends': 2326,\n",
              " 'pay': 3858,\n",
              " 'companies': 1229,\n",
              " 'lucky': 3220,\n",
              " 'dan': 1520,\n",
              " 'mot': 3480,\n",
              " 'motorola': 3492,\n",
              " 'cellular': 1028,\n",
              " '38': 180,\n",
              " 'usa': 5583,\n",
              " 'cc': 1023,\n",
              " 'live': 3174,\n",
              " '89': 268,\n",
              " 'sc': 4677,\n",
              " 'claim': 1132,\n",
              " 'stop': 5099,\n",
              " 'signs': 4871,\n",
              " 'violations': 5667,\n",
              " '18': 78,\n",
              " 'months': 3468,\n",
              " '85': 264,\n",
              " '55': 215,\n",
              " 'failure': 2121,\n",
              " 'clear': 1146,\n",
              " 'damn': 1518,\n",
              " 'light': 3143,\n",
              " 'yellow': 5864,\n",
              " '35': 175,\n",
              " 'passive': 3844,\n",
              " 'liability': 3124,\n",
              " 'comprehensive': 1260,\n",
              " 'roughly': 4604,\n",
              " '92': 273,\n",
              " 'james': 2913,\n",
              " 'law': 3065,\n",
              " 'center': 1029,\n",
              " 'disclaimer': 1732,\n",
              " 'engineer': 1948,\n",
              " 'play': 3975,\n",
              " 'calls': 959,\n",
              " 'bird': 804,\n",
              " 'hell': 2564,\n",
              " 'killing': 3003,\n",
              " 'gonna': 2420,\n",
              " '61': 225,\n",
              " 'experience': 2067,\n",
              " 'interesting': 2843,\n",
              " 'owned': 3773,\n",
              " 'toyota': 5434,\n",
              " 'gt': 2473,\n",
              " 'decided': 1562,\n",
              " 'gift': 2395,\n",
              " '1987': 106,\n",
              " 'liked': 3147,\n",
              " 'handling': 2512,\n",
              " 'appeal': 518,\n",
              " 'personal': 3896,\n",
              " 'ready': 4329,\n",
              " 'buying': 942,\n",
              " 'agent': 407,\n",
              " 'office': 3686,\n",
              " 'happen': 2518,\n",
              " 'slight': 4920,\n",
              " 'newer': 3587,\n",
              " 'lower': 3216,\n",
              " 'risk': 4563,\n",
              " 'division': 1766,\n",
              " 'continue': 1357,\n",
              " 'account': 325,\n",
              " 'double': 1796,\n",
              " 'story': 5109,\n",
              " 'cover': 1446,\n",
              " 'sense': 4765,\n",
              " 'book': 841,\n",
              " 'says': 4675,\n",
              " 'insure': 2823,\n",
              " 'traditional': 5444,\n",
              " 'conservative': 1322,\n",
              " 'eventually': 2016,\n",
              " 'reasons': 4339,\n",
              " 'dealer': 1545,\n",
              " 'tough': 5428,\n",
              " 'pressure': 4094,\n",
              " 'guy': 2489,\n",
              " 'room': 4595,\n",
              " 'equal': 1972,\n",
              " 'monthly': 3467,\n",
              " 'longer': 3197,\n",
              " 'concluded': 1283,\n",
              " 'probability': 4133,\n",
              " 'auto': 669,\n",
              " 'theft': 5344,\n",
              " 'entitled': 1964,\n",
              " 'opinion': 3722,\n",
              " 'dt': 1834,\n",
              " 'navy': 3552,\n",
              " 'mil': 3390,\n",
              " 'imagination': 2698,\n",
              " 'important': 2721,\n",
              " '26': 151,\n",
              " 'turned': 5511,\n",
              " 'immediately': 2703,\n",
              " 'strictly': 5120,\n",
              " 'stayed': 5074,\n",
              " '150': 65,\n",
              " 'pickup': 3929,\n",
              " 'amazing': 460,\n",
              " 'felt': 2180,\n",
              " 'responsible': 4508,\n",
              " '21': 127,\n",
              " 'california': 957,\n",
              " 'violation': 5666,\n",
              " '2000': 121,\n",
              " '28': 156,\n",
              " 'vw': 5699,\n",
              " 'san': 4656,\n",
              " 'jose': 2946,\n",
              " 'vs': 5696,\n",
              " 'v6': 5610,\n",
              " '1986': 105,\n",
              " 'honda': 2616,\n",
              " 'mexico': 3377,\n",
              " 'town': 5431,\n",
              " 'nearby': 3560,\n",
              " 'robert': 4572,\n",
              " 'stack': 5039,\n",
              " 'institute': 2814,\n",
              " 'transportation': 5460,\n",
              " 'studies': 5138,\n",
              " 'univ': 5555,\n",
              " '37': 179,\n",
              " 'saturn': 4668,\n",
              " '64': 230,\n",
              " 'st': 5037,\n",
              " 'date': 1529,\n",
              " 'license': 3134,\n",
              " 'oct': 3676,\n",
              " 'mountain': 3495,\n",
              " 'view': 5656,\n",
              " '415': 191,\n",
              " '1200': 36,\n",
              " 'knock': 3017,\n",
              " 'wood': 5814,\n",
              " 'huge': 2648,\n",
              " 'difference': 1699,\n",
              " 'personally': 3898,\n",
              " 'towns': 5432,\n",
              " 'distance': 1753,\n",
              " 'boston': 853,\n",
              " 'worst': 5828,\n",
              " '600': 223,\n",
              " '43': 193,\n",
              " '1990': 110,\n",
              " 'chicago': 1083,\n",
              " 'coverage': 1447,\n",
              " 'discount': 1733,\n",
              " 'miles': 3394,\n",
              " 'lived': 3175,\n",
              " '41': 190,\n",
              " '93': 274,\n",
              " 'sho': 4837,\n",
              " 'month': 3466,\n",
              " 'thats': 5343,\n",
              " 'property': 4183,\n",
              " '250': 145,\n",
              " 'glass': 2404,\n",
              " '39': 182,\n",
              " 'seriously': 4785,\n",
              " 'listed': 3165,\n",
              " 'calling': 958,\n",
              " 'dealers': 1546,\n",
              " 'places': 3957,\n",
              " 'changed': 1050,\n",
              " 'maintain': 3245,\n",
              " 'careful': 994,\n",
              " 'voltage': 5688,\n",
              " 'signal': 4863,\n",
              " 'output': 3764,\n",
              " 'preferably': 4072,\n",
              " 'factor': 2113,\n",
              " 'resulting': 4517,\n",
              " 'fed': 2166,\n",
              " 'easily': 1858,\n",
              " 'card': 990,\n",
              " 'circuits': 1116,\n",
              " 'simple': 4882,\n",
              " 'amplifier': 471,\n",
              " 'practice': 4053,\n",
              " 'sufficiently': 5174,\n",
              " 'nicely': 3597,\n",
              " 'degrees': 1595,\n",
              " 'accuracy': 327,\n",
              " 'exact': 2024,\n",
              " 'entry': 1967,\n",
              " 'parameter': 3813,\n",
              " 'terminal': 5319,\n",
              " 'configuration': 1298,\n",
              " 'loaded': 3179,\n",
              " 'boots': 845,\n",
              " 'tcp': 5276,\n",
              " 'ip': 2880,\n",
              " 'background': 701,\n",
              " 'unix': 5560,\n",
              " 'running': 4623,\n",
              " 'mit': 3432,\n",
              " 'x11r4': 5850,\n",
              " 'sun': 5191,\n",
              " 'window': 5785,\n",
              " 'ncd': 3557,\n",
              " 'manually': 3268,\n",
              " 'login': 3194,\n",
              " 'telnet': 5305,\n",
              " 'session': 4794,\n",
              " 'tried': 5480,\n",
              " 'failed': 2118,\n",
              " 'implementation': 2709,\n",
              " 'edit': 1873,\n",
              " 'matter': 3315,\n",
              " 'containing': 1350,\n",
              " 'manuals': 3269,\n",
              " 'worthless': 5830,\n",
              " 'orders': 3743,\n",
              " 'captain': 986,\n",
              " 'sabres': 4637,\n",
              " 'traded': 5441,\n",
              " 'leafs': 3085,\n",
              " 'wasn': 5730,\n",
              " 'rick': 4546,\n",
              " 'thomas': 5358,\n",
              " 'ed': 1870,\n",
              " 'speaking': 4991,\n",
              " 'torn': 5420,\n",
              " 'jersey': 2923,\n",
              " 'claimed': 1133,\n",
              " 'flyers': 2249,\n",
              " 'oh': 3694,\n",
              " 'yeah': 5863,\n",
              " 'gretzky': 2461,\n",
              " 'oilers': 3697,\n",
              " 'catalog': 1011,\n",
              " 'computing': 1270,\n",
              " 'tools': 5416,\n",
              " 'engineers': 1950,\n",
              " 'lists': 3169,\n",
              " 'hardware': 2526,\n",
              " 'packages': 3785,\n",
              " 'xt': 5854,\n",
              " 'ps': 4211,\n",
              " 'focus': 2252,\n",
              " 'pcs': 3865,\n",
              " 'presentation': 4083,\n",
              " 'copy': 1406,\n",
              " 'postal': 4032,\n",
              " 'mailing': 3241,\n",
              " 'write': 5838,\n",
              " 'tons': 5411,\n",
              " 'stuff': 5141,\n",
              " 'appears': 523,\n",
              " 'buyer': 941,\n",
              " 'waste': 5731,\n",
              " 'ensure': 1957,\n",
              " 'continued': 1358,\n",
              " 'touch': 5427,\n",
              " 'street': 5114,\n",
              " 'campbell': 968,\n",
              " 'ca': 945,\n",
              " '408': 189,\n",
              " 'fax': 2158,\n",
              " 'toll': 5405,\n",
              " 'ordering': 3742,\n",
              " 'tech': 5286,\n",
              " 'box': 861,\n",
              " 'upper': 5579,\n",
              " 'left': 3101,\n",
              " 'click': 1150,\n",
              " 'font': 2260,\n",
              " 'biggest': 793,\n",
              " 'characters': 1060,\n",
              " 'turning': 5512,\n",
              " 'specific': 4996,\n",
              " 'definitely': 1591,\n",
              " 'cartridge': 1005,\n",
              " 'drives': 1821,\n",
              " 'involved': 2875,\n",
              " 'blind': 819,\n",
              " 'writes': 5841,\n",
              " 'worked': 5818,\n",
              " 'loop': 3200,\n",
              " 'macintosh': 3230,\n",
              " 'hello': 2566,\n",
              " 'voice': 5684,\n",
              " 'input': 2797,\n",
              " 'user': 5589,\n",
              " 'developing': 1678,\n",
              " 'workstation': 5822,\n",
              " 'greatly': 2454,\n",
              " 'appreciate': 533,\n",
              " 'care': 992,\n",
              " 'accessible': 317,\n",
              " 'names': 3540,\n",
              " 'applicable': 525,\n",
              " 'vendors': 5636,\n",
              " 'respond': 4501,\n",
              " 'sufficient': 5173,\n",
              " 'impressive': 2725,\n",
              " 'avoid': 681,\n",
              " 'purchasing': 4236,\n",
              " 'maintaining': 3247,\n",
              " 'virginia': 5671,\n",
              " 'laboratory': 3032,\n",
              " 'plants': 3969,\n",
              " 'usual': 5594,\n",
              " 'nuclear': 3633,\n",
              " 'industry': 2770,\n",
              " 'cold': 1180,\n",
              " 'cooling': 1399,\n",
              " 'gas': 2354,\n",
              " 'fired': 2216,\n",
              " 'sized': 4901,\n",
              " 'hot': 2635,\n",
              " 'cool': 1398,\n",
              " 'canadian': 972,\n",
              " 'official': 3690,\n",
              " 'river': 4565,\n",
              " 'resource': 4495,\n",
              " 'everybody': 2017,\n",
              " 'closed': 1159,\n",
              " 'cycle': 1508,\n",
              " 'bigger': 792,\n",
              " 'doug': 1798,\n",
              " 'roberts': 4573,\n",
              " 'hill': 2584,\n",
              " 'nl': 3605,\n",
              " 'mvp': 3530,\n",
              " 'table': 5244,\n",
              " 'service': 4791,\n",
              " 'mind': 3402,\n",
              " 'wish': 5802,\n",
              " 'attack': 637,\n",
              " 'half': 2498,\n",
              " 'truth': 5495,\n",
              " ...}"
            ]
          },
          "metadata": {
            "tags": []
          },
          "execution_count": 7
        }
      ]
    },
    {
      "cell_type": "markdown",
      "metadata": {
        "id": "Ki7CwruhB1xN",
        "colab_type": "text"
      },
      "source": [
        "Индекс, например, для слова anyone:"
      ]
    },
    {
      "cell_type": "code",
      "metadata": {
        "id": "N2XVuQu3B1xP",
        "colab_type": "code",
        "outputId": "56a4113c-4dfa-40a7-e4c8-a5b2d9226346",
        "colab": {
          "base_uri": "https://localhost:8080/",
          "height": 34
        }
      },
      "source": [
        "vectorizer.vocabulary_.get('car')"
      ],
      "execution_count": 8,
      "outputs": [
        {
          "output_type": "execute_result",
          "data": {
            "text/plain": [
              "989"
            ]
          },
          "metadata": {
            "tags": []
          },
          "execution_count": 8
        }
      ]
    },
    {
      "cell_type": "markdown",
      "metadata": {
        "id": "H9ckeTs2B1xT",
        "colab_type": "text"
      },
      "source": [
        "А теперь преобразуем строку в вектор:"
      ]
    },
    {
      "cell_type": "code",
      "metadata": {
        "id": "DKb4MKQBB1xU",
        "colab_type": "code",
        "colab": {}
      },
      "source": [
        "text = 'I was wondering if anyone out there could enlighten me on this car I saw'\n",
        "x = vectorizer.transform([text])"
      ],
      "execution_count": 0,
      "outputs": []
    },
    {
      "cell_type": "markdown",
      "metadata": {
        "id": "ULWh4DvrB1xX",
        "colab_type": "text"
      },
      "source": [
        "Какой тип имеет объект, на который указывает ```x```?"
      ]
    },
    {
      "cell_type": "code",
      "metadata": {
        "id": "LSi_b4mIB1xX",
        "colab_type": "code",
        "outputId": "ae1b0066-a1a9-4757-a569-f99ef1dfaeee",
        "colab": {
          "base_uri": "https://localhost:8080/",
          "height": 34
        }
      },
      "source": [
        "type(x)"
      ],
      "execution_count": 10,
      "outputs": [
        {
          "output_type": "execute_result",
          "data": {
            "text/plain": [
              "scipy.sparse.csr.csr_matrix"
            ]
          },
          "metadata": {
            "tags": []
          },
          "execution_count": 10
        }
      ]
    },
    {
      "cell_type": "markdown",
      "metadata": {
        "id": "VdVtA7GmB1xZ",
        "colab_type": "text"
      },
      "source": [
        "Разреженная матрица!"
      ]
    },
    {
      "cell_type": "markdown",
      "metadata": {
        "id": "ugUSIc9PB1xa",
        "colab_type": "text"
      },
      "source": [
        "### Отступление про разреженные матрицы"
      ]
    },
    {
      "cell_type": "markdown",
      "metadata": {
        "id": "OB_zLEVBB1xa",
        "colab_type": "text"
      },
      "source": [
        "Список ненулевых элементов матрицы:"
      ]
    },
    {
      "cell_type": "code",
      "metadata": {
        "id": "5ygEpbSSB1xb",
        "colab_type": "code",
        "outputId": "07ac83dc-feff-461b-b252-466cf992fe1d",
        "colab": {
          "base_uri": "https://localhost:8080/",
          "height": 34
        }
      },
      "source": [
        "x.data"
      ],
      "execution_count": 11,
      "outputs": [
        {
          "output_type": "execute_result",
          "data": {
            "text/plain": [
              "array([1, 1, 1])"
            ]
          },
          "metadata": {
            "tags": []
          },
          "execution_count": 11
        }
      ]
    },
    {
      "cell_type": "markdown",
      "metadata": {
        "id": "tejzzkvFB1xd",
        "colab_type": "text"
      },
      "source": [
        "Индексы строк и столбцов для ненулевых элементов:"
      ]
    },
    {
      "cell_type": "code",
      "metadata": {
        "id": "iYlLQ9WaB1xe",
        "colab_type": "code",
        "outputId": "969b1d42-1503-4e8b-92d7-600159c4765b",
        "colab": {
          "base_uri": "https://localhost:8080/",
          "height": 34
        }
      },
      "source": [
        "x.nonzero()"
      ],
      "execution_count": 12,
      "outputs": [
        {
          "output_type": "execute_result",
          "data": {
            "text/plain": [
              "(array([0, 0, 0], dtype=int32), array([ 989, 4673, 5813], dtype=int32))"
            ]
          },
          "metadata": {
            "tags": []
          },
          "execution_count": 12
        }
      ]
    },
    {
      "cell_type": "markdown",
      "metadata": {
        "id": "43HhCWNTB1xg",
        "colab_type": "text"
      },
      "source": [
        "Преобразование к объекту ndarray (именно после приведения к такому виду разреженные матрицы можно подставлять в функции, например, библиотеки Numpy):"
      ]
    },
    {
      "cell_type": "code",
      "metadata": {
        "id": "1U7rGrAYB1xh",
        "colab_type": "code",
        "outputId": "852ecd62-fa4d-46c3-fa3a-57ed51ab185a",
        "colab": {
          "base_uri": "https://localhost:8080/",
          "height": 34
        }
      },
      "source": [
        "x.toarray()"
      ],
      "execution_count": 13,
      "outputs": [
        {
          "output_type": "execute_result",
          "data": {
            "text/plain": [
              "array([[0, 0, 0, ..., 0, 0, 0]])"
            ]
          },
          "metadata": {
            "tags": []
          },
          "execution_count": 13
        }
      ]
    },
    {
      "cell_type": "markdown",
      "metadata": {
        "id": "rNcjGOXGB1xk",
        "colab_type": "text"
      },
      "source": [
        "Вернемся к словарю. Раскодируем вектор ```x``` в список слов:"
      ]
    },
    {
      "cell_type": "code",
      "metadata": {
        "id": "_A38zVwvB1xk",
        "colab_type": "code",
        "outputId": "32145f8e-f21d-4bad-abed-24b218ed29c5",
        "colab": {
          "base_uri": "https://localhost:8080/",
          "height": 34
        }
      },
      "source": [
        "vectorizer.inverse_transform(x)"
      ],
      "execution_count": 14,
      "outputs": [
        {
          "output_type": "execute_result",
          "data": {
            "text/plain": [
              "[array(['car', 'saw', 'wondering'], dtype='<U18')]"
            ]
          },
          "metadata": {
            "tags": []
          },
          "execution_count": 14
        }
      ]
    },
    {
      "cell_type": "markdown",
      "metadata": {
        "id": "P4TuPHK1B1xm",
        "colab_type": "text"
      },
      "source": [
        "Пропало слово ```I```. Но дело в том, что по умолчанию ```CountVectorizer``` отбрасывает последовательности, короче 2 символов. На это указывает параметр ```token_pattern='(?u)\\\\b\\\\w\\\\w+\\\\b'```."
      ]
    },
    {
      "cell_type": "markdown",
      "metadata": {
        "id": "qZYK2sG_B1xn",
        "colab_type": "text"
      },
      "source": [
        "Переведем весь набор текстов обучающего датасета в набор векторов, получим матрицу ```X_train```:"
      ]
    },
    {
      "cell_type": "code",
      "metadata": {
        "id": "Uhj_aRW7B1xn",
        "colab_type": "code",
        "outputId": "87e1cb6a-47e3-45cf-ed84-d7f109b48310",
        "colab": {
          "base_uri": "https://localhost:8080/",
          "height": 34
        }
      },
      "source": [
        "X_train = vectorizer.fit_transform(newsgroups_train.data)\n",
        "X_train.shape"
      ],
      "execution_count": 15,
      "outputs": [
        {
          "output_type": "execute_result",
          "data": {
            "text/plain": [
              "(11314, 5877)"
            ]
          },
          "metadata": {
            "tags": []
          },
          "execution_count": 15
        }
      ]
    },
    {
      "cell_type": "markdown",
      "metadata": {
        "id": "DeYz7ZxuB1xs",
        "colab_type": "text"
      },
      "source": [
        "О пользе разреженных матриц. Отношение числа ненулевых элементов ко всем элементам матрицы ```X_train```:"
      ]
    },
    {
      "cell_type": "code",
      "metadata": {
        "id": "lkc9UFcTB1xt",
        "colab_type": "code",
        "outputId": "6241e027-1f64-4f5b-ea4b-2ca43670bd7c",
        "colab": {
          "base_uri": "https://localhost:8080/",
          "height": 34
        }
      },
      "source": [
        "X_train.nnz / np.prod(X_train.shape)"
      ],
      "execution_count": 16,
      "outputs": [
        {
          "output_type": "execute_result",
          "data": {
            "text/plain": [
              "0.006326439400317432"
            ]
          },
          "metadata": {
            "tags": []
          },
          "execution_count": 16
        }
      ]
    },
    {
      "cell_type": "markdown",
      "metadata": {
        "id": "i9ZpBC7Sgauk",
        "colab_type": "text"
      },
      "source": [
        "\n",
        "Задача: запустить модель LDA и Gibbs Sampling с числов тегов 20. Вывести топ-10 слов по каждому тегу. Соотнести полученные теги с тегами из датасета, сделать выводы. "
      ]
    },
    {
      "cell_type": "code",
      "metadata": {
        "id": "Rn_580PkLCCj",
        "colab_type": "code",
        "colab": {}
      },
      "source": [
        "from tqdm import tqdm\n",
        "\n",
        "def lda(X_train, n_topics, alpha, beta, n_iter=10):\n",
        "    n_kw = np.zeros((n_topics, X_train.shape[1]))\n",
        "    n_dk = np.zeros((X_train.shape[0], n_topics))\n",
        "    n_k = np.zeros(n_topics)\n",
        "    docs, words = X_train.nonzero()\n",
        "    z = np.random.choice(n_topics, len(docs))\n",
        "    for doc, word, i in zip(docs, words, z):\n",
        "        n_dk[doc, i] += 1\n",
        "        n_kw[i, word] += 1\n",
        "        n_k[i] += 1\n",
        "    for cur_iter in tqdm(range(n_iter)):\n",
        "        for i in range(len(docs)):\n",
        "            n_dk[docs[i], z[i]] -= 1\n",
        "            n_kw[z[i], words[i]] -= 1\n",
        "            n_k[z[i]] -= 1\n",
        "            p = (n_dk[docs[i], :] + alpha[:]) * (n_kw[:, words[i]] + beta[words[i]]) / (n_k[:] + beta.sum())\n",
        "            z[i] = np.random.choice(np.arange(n_topics), p=p / p.sum())\n",
        "            n_dk[docs[i], z[i]] += 1\n",
        "            n_kw[z[i], words[i]] += 1\n",
        "            n_k[z[i]] += 1\n",
        "    return z, n_kw, n_dk, n_k\n",
        "\n"
      ],
      "execution_count": 0,
      "outputs": []
    },
    {
      "cell_type": "code",
      "metadata": {
        "id": "MYc0OyysdY-K",
        "colab_type": "code",
        "outputId": "8ae59c5b-2e7f-4195-d1f8-7a6c62878ef4",
        "colab": {
          "base_uri": "https://localhost:8080/",
          "height": 34
        }
      },
      "source": [
        "n_topics = 20\n",
        "z, n_kw, n_dk, n_k = lda(X_train, n_topics, 1 * np.ones(n_topics), 1 * np.ones(X_train.shape[1]), 50)"
      ],
      "execution_count": 18,
      "outputs": [
        {
          "output_type": "stream",
          "text": [
            "100%|██████████| 50/50 [24:26<00:00, 29.11s/it]\n"
          ],
          "name": "stderr"
        }
      ]
    },
    {
      "cell_type": "code",
      "metadata": {
        "id": "Jm_nBwsyd_tU",
        "colab_type": "code",
        "outputId": "0f8d838e-4975-4843-b4c6-d197ce5a5ead",
        "colab": {
          "base_uri": "https://localhost:8080/",
          "height": 364
        }
      },
      "source": [
        "top_words = np.argsort(n_kw, axis=1)[:, :-11:-1]\n",
        "for i in range(20):\n",
        "    doc = np.zeros((1, X_train.shape[1]))\n",
        "    for j in top_words[i]:\n",
        "        doc[0, j] = 1\n",
        "    print('Topic {}:\\t{}'.format(i, '\\t'.join(vectorizer.inverse_transform(doc)[0])))\n"
      ],
      "execution_count": 20,
      "outputs": [
        {
          "output_type": "stream",
          "text": [
            "Topic 0:\tchip\tclipper\tencryption\tkey\tkeys\tphone\tpublic\tsecret\tsecure\tsecurity\n",
            "Topic 1:\tdifference\tgets\timportant\tlater\tok\tones\tsimilar\tsimply\tsmall\tsort\n",
            "Topic 2:\tcame\thappened\tnight\tsaw\ttold\ttook\ttried\twanted\twasn\twent\n",
            "Topic 3:\tboard\tcard\tcomputer\tdisk\tmac\tmemory\tmonitor\tpc\tram\tvideo\n",
            "Topic 4:\t11\t12\t13\t14\t16\t17\t18\t23\t24\t25\n",
            "Topic 5:\tgame\tgames\thockey\tleague\tplay\tplayers\tseason\tteam\tteams\twin\n",
            "Topic 6:\taddress\tarticle\tmessage\tnet\tnews\tnewsgroup\tposted\tposting\tquestions\tsubject\n",
            "Topic 7:\tarmy\tchildren\tisrael\tisraeli\tjewish\tjews\tkilled\tland\tturkish\twar\n",
            "Topic 8:\tapplication\tcode\tfile\tfiles\tftp\tgraphics\trunning\tuser\tversion\twindow\n",
            "Topic 9:\tbuild\tcircuit\tcurrent\thot\tinput\tlow\tsignal\tsimple\ttype\tusually\n",
            "Topic 10:\tasking\tbuy\tcar\tcondition\toffer\tpay\tprice\tsale\tsell\tshipping\n",
            "Topic 11:\tcarry\tcontrol\tfbi\tgun\tguns\tlikely\tnews\tself\tweapons\twouldn\n",
            "Topic 12:\tcause\tdisease\tdoctor\teffect\texperience\tfood\tmedical\tmedicine\tsimilar\tusually\n",
            "Topic 13:\tarticle\tbtw\tcheers\tdeleted\tguess\tposting\tsays\tsorry\tsounds\tstuff\n",
            "Topic 14:\tadvance\tanybody\tappreciate\tappreciated\tcorrect\tguess\thear\thi\tsorry\twondering\n",
            "Topic 15:\tagree\tcountry\tcourt\tforce\tlaw\tlaws\tmatter\trights\tsimply\tsociety\n",
            "Topic 16:\tamerican\tapril\tclinton\thouse\tmoney\tpresident\tpublic\tstates\ttoday\twashington\n",
            "Topic 17:\tcenter\tearth\tlarge\tnasa\tresearch\tscience\tspace\tsystems\ttechnology\tuniversity\n",
            "Topic 18:\tbible\tchrist\tchristian\tchristians\tchurch\tfaith\tjesus\tman\treligion\tword\n",
            "Topic 19:\tarea\tbike\tcar\tcars\tdod\tdriving\tengine\tride\troad\tturn\n"
          ],
          "name": "stdout"
        }
      ]
    }
  ]
}